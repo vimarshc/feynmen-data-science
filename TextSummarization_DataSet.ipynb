{
 "cells": [
  {
   "cell_type": "markdown",
   "metadata": {},
   "source": [
    "https://www.kaggle.com/sunnysai12345/news-summary"
   ]
  },
  {
   "cell_type": "code",
   "execution_count": 4,
   "metadata": {},
   "outputs": [],
   "source": [
    "import pandas as pd "
   ]
  },
  {
   "cell_type": "code",
   "execution_count": 6,
   "metadata": {},
   "outputs": [
    {
     "name": "stdout",
     "output_type": "stream",
     "text": [
      "author,date,headlines,read_more,text,ctext\r",
      "\r\n",
      "Chhavi Tyagi,\"03 Aug 2017,Thursday\",Daman & Diu revokes mandatory Rakshabandhan in offices order,http://www.hindustantimes.com/india-news/rakshabandhan-compulsory-in-daman-and-diu-women-employees-to-tie-rakhis-to-male-colleagues/story-E5h5U1ZDJii5zFpLXWRkhJ.html?utm_source=inshorts&utm_medium=referral&utm_campaign=fullarticle ,The Administration of Union Territory Daman and Diu has revoked its order that made it compulsory for women to tie rakhis to their male colleagues on the occasion of Rakshabandhan on August 7. The administration was forced to withdraw the decision within 24 hours of issuing the circular after it received flak from employees and was slammed on social media.,\"The Daman and Diu administration on Wednesday withdrew a circular that asked women staff to tie rakhis on male colleagues after the order triggered a backlash from employees and was ripped apart on social media.The union territory?s administration was forced to retreat within 24 hours of issuing the circular that made it compulsory for its staff to celebrate Rakshabandhan at workplace.?It has been decided to celebrate the festival of Rakshabandhan on August 7. In this connection, all offices/ departments shall remain open and celebrate the festival collectively at a suitable time wherein all the lady staff shall tie rakhis to their colleagues,? the order, issued on August 1 by Gurpreet Singh, deputy secretary (personnel), had said.To ensure that no one skipped office, an attendance report was to be sent to the government the next evening.The two notifications ? one mandating the celebration of Rakshabandhan (left) and the other withdrawing the mandate (right) ? were issued by the Daman and Diu administration a day apart. The circular was withdrawn through a one-line order issued late in the evening by the UT?s department of personnel and administrative reforms.?The circular is ridiculous. There are sensitivities involved. How can the government dictate who I should tie rakhi to? We should maintain the professionalism of a workplace? an official told Hindustan Times earlier in the day. She refused to be identified.The notice was issued on Daman and Diu administrator and former Gujarat home minister Praful Kodabhai Patel?s direction, sources said.Rakshabandhan, a celebration of the bond between brothers and sisters, is one of several Hindu festivities and rituals that are no longer confined of private, family affairs but have become tools to push politic al ideologies.In 2014, the year BJP stormed to power at the Centre, Rashtriya Swayamsevak Sangh (RSS) chief Mohan Bhagwat said the festival had ?national significance? and should be celebrated widely ?to protect Hindu culture and live by the values enshrined in it?. The RSS is the ideological parent of the ruling BJP.Last year, women ministers in the Modi government went to the border areas to celebrate the festival with soldiers. A year before, all cabinet ministers were asked to go to their constituencies for the festival.\"\r",
      "\r\n",
      "Daisy Mowke,\"03 Aug 2017,Thursday\",Malaika slams user who trolled her for 'divorcing rich man' ,http://www.hindustantimes.com/bollywood/malaika-arora-khan-was-trolled-for-divorcing-a-rich-man-her-reply-is-dignity-itself/story-oIPZNI9deImCmabLMMwR2H.html?utm_source=inshorts&utm_medium=referral&utm_campaign=fullarticle ,\"Malaika Arora slammed an Instagram user who trolled her for \"\"divorcing a rich man\"\" and \"\"having fun with the alimony\"\". \"\"Her life now is all about wearing short clothes, going to gym or salon, enjoying vacation[s],\"\" the user commented. Malaika responded, \"\"You certainly got to get your damn facts right before spewing sh*t on me...when you know nothing about me.\"\"\",\"From her special numbers to TV?appearances, Bollywood actor Malaika Arora Khan has managed to carve her own identity. The actor, who made her debut in the Hindi film industry with the blockbuster debut opposite Shah Rukh Khan in Chaiyya Chaiyya from Dil Se (1998), is still remembered for the song. However, for trolls, she is a woman first and what matters right now is that she divorced a ?rich man?.  On Wednesday, Malaika Arora shared a gorgeous picture of herself on Instagram and a follower decided to troll her for using her ?alumni? (read alimony) money to wear ?short clothes and going to gym or salon?. Little did he/she know that the Munni Badnam star would reply with the perfect comeback. Take a look at the interaction:     Super excited to be affiliated with Khanna Jewellers @khannajewellerskj as their brand ambassador. Crafted to perfection, their stunning statement jewellery is a must have for every jewellery lover. #khannajewellers...#maksquad?? #hair @hairbypriyanka #stylist @manekaharisinghani #manager @ektakauroberoi #mua? @subbu28 #photographer @prasdnaik A post shared by Malaika Arora Khan (@malaikaarorakhanofficial) on Aug 2, 2017 at 6:20am PDT Then, Malaika decided to reply: The entire conversation only proves that no matter if a woman is successful, she will be attacked the moment she decides to step out of bounds the society decided for her. Apart from being a successful woman who lives life on her own terms, Malaika has literally played all the roles traditionally prescribed for a woman - she married quite early, had a son and raised him and was always around with the ?khandan?. But then, she got divorced and alimony is the taunt being thrown at her. The details of the alimony are only known to Malaika, her husband Arbaaz Khan and perhaps the family. The couple has handled the divorce with the utmost dignity. But we can vouch for the fact that she did not  need an alimony to buy clothes (short or not, her choice), go on vacations and enjoy her life. If anything, she is as successful, if not more, than her ex-husband.What happened between Arbaaz and Malaika is their personal concern. But to claim that Malaika married and then divorced Arbaaz for money doesn?t hold water. For those who do not agree, please get a course in feminism and for others, here?s a playlist of some of her most popular songs. Follow @htshowbiz for more\"\r",
      "\r\n",
      "Arshiya Chopra,\"03 Aug 2017,Thursday\",'Virgin' now corrected to 'Unmarried' in IGIMS' form,http://www.hindustantimes.com/patna/bihar-igims-form-loses-virginity-after-row-opts-for-unmarried-instead/story-8XmHIg39otGBoZAYEBQxMK.html?utm_source=inshorts&utm_medium=referral&utm_campaign=fullarticle ,\"The Indira Gandhi Institute of Medical Sciences (IGIMS) in Patna on Thursday made corrections in its Marital Declaration Form by changing 'Virgin' option to 'Unmarried'. Earlier, Bihar Health Minister defined virgin as being an unmarried woman and did not consider the term objectionable. The institute, however, faced strong backlash for asking new recruits to declare their virginity in the form.\",\"The Indira Gandhi Institute of Medical Sciences (IGIMS) in Patna amended its marital declaration form on Thursday, replacing the word ?virgin? with ?unmarried? after controversy.Until now, new recruits to the super-specialty medical institute in the state capital were required to declare if they were bachelors, widowers or virgins.IGIMS medical superintendent Dr Manish Mandal said institute director Dr NR Biswas held a meeting on Thursday morning before directing that the word ?virgin? on the marital declaration form be immediately replaced with ?unmarried?. Dr Biswas had just returned after a four-day leave of absence.Earlier, Bihar health minister Mangal Pandey had ended up redefining the very meaning of virginity in his attempts to justify the awkward phrasing of the question in the form. Following a public furore over the document on Wednesday, the minister told news channels that there was nothing wrong with using the word ?virgin? because it simply meant ?kanya? or ?kunwari? ? which means an unmarried girl.Pandey had joined the cabinet just three days ago.Sources said the chief minister?s office had also taken cognizance of the issue, and asked for a copy of the form. It had even asked why the question was introduced in the first place.In its response, the management of the autonomous super-specialty health facility had clarified on Wednesday that it was in adherence to the central civil services rules followed by the All India Institute of Medical Sciences in New Delhi.The previous version of the marital declaration form, which purportedly asked new recruits if they were virgins.\r",
      "\r\n",
      "\t\t\t\t\t\t\t(HT Photo)\r",
      "\r\n",
      "\t\t\t\t\t\tThe marital declaration form had been in existence since the inception of the institute in 1983. Some officials blamed the faux pas on poor translation on the part of individuals who drafted the document.?The word ?virgin? mentioned on the form had nothing to do with the virginity of any employee. It only sought to know the employees? marital status, so their dues could be settled on the basis of their declaration in the event of death while in service,? said Dr Mandal.\"\r",
      "\r\n",
      "Sumedha Sehra,\"03 Aug 2017,Thursday\",Aaj aapne pakad liya: LeT man Dujana before being killed,http://indiatoday.intoday.in/story/abu-dujana-last-phone-call-lashkar-e-taiba-jammu-and-kashmir/1/1017550.html?utm_source=inshorts&utm_medium=referral&utm_campaign=fullarticle ,\"Lashkar-e-Taiba's Kashmir commander Abu Dujana, who was killed by security forces, said \"\"Kabhi hum aage, kabhi aap, aaj aapne pakad liya, mubarak ho aapko (Today you caught me. Congratulations)\"\" after being caught. He added that he won't surrender, and whatever is in his fate will happen to him. \"\"Hum nikley they shaheed hone (had left home for martyrdom),\"\" he added.\",\"Lashkar-e-Taiba's Kashmir commander Abu Dujana was killed in an encounter in a village in Pulwama district of Jammu and Kashmir earlier this week. Dujana, who had managed to give the security forces a slip several times in the past, carried a bounty of Rs 15 lakh on his head.Reports say that Dujana had come to meet his wife when he was trapped inside a house in Hakripora village. Security officials involved in the encounter tried their best to convince Dujana to surrender but he refused, reports say.According to reports, Dujana rejected call for surrender from an Army officer. The Army had commissioned a local to start a telephonic conversation with Dujana. After initiating the talk, the local villager handed over the phone to the army officer.\"\"Kya haal hai? Maine kaha, kya haal hai (How are you. I asked, how are you)?\"\" Dujana is heard asking the officer. The officer replies: \"\"Humara haal chhor Dujana. Surrender kyun nahi kar deta. Tu galat kar rha hai (Why don't you surrender? You have married this girl. What you are doing isn't right.)\"\"When told that he is being used by Pakistani agencies as a pawn, Dujana, who sounded calm and unperturbed of the situation, said \"\"Hum nikley they shaheed hone. Main kya karu. Jisko game khelna hai, khelo. Kabhi hum aage, kabhi aap, aaj aapne pakad liya, mubarak ho aapko. Jisko jo karna hai karlo (I had left home for martyrdom. What can I do? Today you caught me. Congratulations. \"\"Surrender nahi kar sakta. Jo meri kismat may likha hoga, Allah wahi karega, theek hai? (I won't surrender. Allaah would do whatever is there in my fate)\"\" Dujana went on to say. Dujana, who belonged to Pakistan, was Lashkar-e-Taiba's divisional commander in south Kashmir. He was among the top 10 terrorists identified by the Indian Army in Jammu and Kashmir.With a Rs 15 lakh bounty on his head, Dujana was labelled an 'A++' terrorist - the top grade which was also given to Burhan Wani.Security forces received inputs that during the last few days he was frequenting the houses of his wife Rukaiya and girlfriend Shazia. Police was keeping a watch on both the houses. when it was confirmed he was present in his wife's house, security forces moved in to trap him.ALSO READ:After Abu Dujana, security forces prepare new hitlist of most wanted terroristsAbu Dujana encounter: Jilted lover turned police informer led security forces to LeT commander\"\r",
      "\r\n",
      "Aarushi Maheshwari,\"03 Aug 2017,Thursday\",Hotel staff to get training to spot signs of sex trafficking,http://indiatoday.intoday.in/story/sex-trafficking-mumbai-rescue-me-maharashtra-international-labour-organization-forced-labour-trafficking-traning-hotel-staff/1/1017210.html?utm_source=inshorts&utm_medium=referral&utm_campaign=fullarticle ,\"Hotels in Maharashtra will train their staff to spot signs of sex trafficking, including frequent requests for bed linen changes and 'Do not disturb' signs left on room doors for days. A mobile phone app called Rescue Me, which will allow staff to alert police of suspicious behaviour, will be developed. The initiative has been backed by the Maharashtra government.\",\"Hotels in Mumbai and other Indian cities are to train their staff to spot signs of sex trafficking such as frequent requests for bed linen changes or a \"\"Do not disturb\"\" sign left on the door for days on end. The group behind the initiative is also developing a mobile phone app - Rescue Me - which hotel staff can use to alert local police and senior anti-trafficking officers if they see suspicious behavior. \"\"Hotels are breeding grounds for human trade,\"\" said Sanee Awsarmmel, chairman of the alumni group of Maharashtra State Institute of Hotel Management and Catering Technology. \"\"(We) have hospitality professionals working in hotels across the country. We are committed to this cause.\"\"The initiative, spearheaded by the alumni group and backed by the Maharashtra state government, comes amid growing international recognition that hotels have a key role to play in fighting modern day slavery. MAHARASHTRA MAJOR DESTINATION FOR TRAFFICKED GIRLS Maharashtra, of which Mumbai is the capital, is a major destination for trafficked girls who are lured from poor states and nearby countries on the promise of jobs, but then sold into the sex trade or domestic servitude. With rising property prices, some traditional red light districts like those in Mumbai have started to disappear pushing the sex trade underground into private lodges and hotels, which makes it hard for police to monitor.Awsarmmel said hotels would be told about 50 signs that staff needed to watch out for.These include requests for rooms with a view of the car park which are favored by traffickers as they allow them to vet clients for signs of trouble and check out their cars to gauge how much to charge.Awsarmmel said hotel staff often noticed strange behavior such as a girl's reticence during the check-in process or her dependence on the person accompanying her to answer questions and provide her proof of identity.But in most cases, staff ignore these signs or have no idea what to do, he told the Thomson Reuters Foundation.RESCUE ME APP The Rescue Me app - to be launched in a couple of months - will have a text feature where hotel staff can fill in details including room numbers to send an alert to police.Human trafficking is the world's fastest growing criminal enterprise worth an estimated $150 billion a year, according to the International Labor Organization, which says nearly 21 million people globally are victims of forced labor and trafficking.Last year, major hotel groups, including the Hilton and Shiva Hotels, pledged to examine their supply chains for forced labor, and train staff how to spot and report signs of trafficking.Earlier this year, Mexico City also launched an initiative to train hotel staff about trafficking.Vijaya Rahatkar, chairwoman of the Maharashtra State Women's Commission, said the initiative would have an impact beyond the state as the alumni group had contact with about a million small hotels across India.The group is also developing a training module on trafficking for hotel staff and hospitality students which could be used across the country.ALSO READFYI | Legal revenge: Child sex trafficking survivors get 'School of Justice' to fight their own battlesMumbai: Woman DJ arrested in high-profile sex racket case\"\r",
      "\r\n",
      "Sonu Kumari,\"03 Aug 2017,Thursday\",\"Man found dead at Delhi police station, kin allege foul play\",http://www.hindustantimes.com/delhi-news/man-found-dead-at-police-station-in-delhi-family-suspects-foul-play/story-o6Yiekn6BLSPKGWK1etTOJ.html?utm_source=inshorts&utm_medium=referral&utm_campaign=fullarticle ,A 32-year-old man on Wednesday was found hanging inside the washroom of a Delhi police station after he was called for interrogation. His family alleged that he could have been emotionally and physically tortured. Police said the man was named as a suspect in the kidnapping case of a married woman with whom he had been in a relationship earlier.,\"An alleged suspect in a kidnapping case was found hanging inside the washroom of the Jahangirpuri police station in north Delhi on Wednesday, hours after he was called by the cops for interrogation.The police claimed it was an ?unprovoked suicide? and denied use of force. An internal inquiry as well as a magisterial probe is in process, police said. The relatives of the deceased suspect foul play in the death.The dead man is 32-year-old Raj Kumar. A native of Kasganj in UP, Kumar was unmarried and worked as a security guard at a government school in Pitampura till a few months ago.?During his stint at that school, he entered into a relationship with a married woman who worked as a peon. Their relationship ended a few months ago and Kumar quit the job and returned to his village,? said a police officer.The woman went missing a few months ago, prompting her husband to file a police complaint and a habeas corpus petition at the Delhi High Court.?The woman?s husband suspected five-six persons. Kumar was one of them,? said the officer. A team was sent to Kumar?s village but when he was found unavailable, he was instructed to report to the Jahangirpuri police station.?Kumar was confident he had no role in the woman?s disappearance. He willingly arrived in Delhi on Tuesday and visited the police station,? said Kumar?s friend, Dharmendra, who dropped him at the police station around 3 pm.Citing the magisterial enquiry, the police refused to share either the sequence of events or the circumstances leading to his death. But Kumar?s relatives quoted investigators as saying he was let off around 10.30 pm.?The investigating officer told me my uncle was allowed to go at 10.30 pm. The same officer tells me the suicide happened at 2 am, over three hours later,? said Kumar?s nephew, Ankit Pachauri.Pachauri and other family members suspected that Kumar could have been physically and emotionally tortured, because of which he killed himself.?A request for post-mortem by a board of doctors is being made. All mandatory actions are being taken,? said Vijayanta Arya, additional DCP (north-west). She said neither was Kumar arrested nor did any evidence of his involvement in the woman?s disappearance emerge in Tuesday?s questioning..\"\r",
      "\r\n",
      "Parmeet Kaur,\"03 Aug 2017,Thursday\",Delhi HC reduces aid for 'negligent' accident victim by 45%,http://indiatoday.intoday.in/story/delhi-high-court-accident-compensation/1/1017531.html?utm_source=inshorts&utm_medium=referral&utm_campaign=fullarticle ,\"The Delhi High Court reduced the compensation awarded to a motor accident victim by 45% after it found negligence on the part of both parties. A compensation of ?10 lakh was earlier awarded to the victim. The court observed, \"\"It's possible despite the vehicle being driven in permissible limit, an accident can occur when a jaywalker suddenly appears on road.\"\" \",\"In an interesting ruling, the Delhi high court reduced the compensation awarded to a motor accident victim by 45 per cent after it found negligence on the part of both the parties.Deepak Kumar, the victim, was hit by a motor vehicle driven by a government employee named Ajay Kumar in Palam.Deepak told the court that while he was on his way to work, he stopped his vehicle after crossing Palam flyover to feed a cow. While he was crossing the road, he was hit and suffered injuries. The trial court had awarded a compensation of Rs 10 lakh to him after ruling negligence on Ajay's part.Ajay challenged the trial court order based on the detailed accident report that mentioned motorcycle was not being driven dangerously or at an excessive speed, and was being driven in its lane and within the permissible speed limit.He sought examination of the contributory negligence on behalf of the injured through advocate Trideep Pais and Pranav Jain. The court observed, \"\"It is possible that despite the vehicle being driven in permissible limit, an accident can occur when a jaywalker suddenly appears on the road.\"\"\"\"Such people apart from impairing their own lives also pose a threat to the safety and security of the ongoing traffic. The fact that the victim chose to walk across a busy road near the airport, with heavy morning traffic, he knowingly exposed himself to dangers that such risk may entail. It exhibits his negligence towards his own safety,\"\" the court added.Quoting the detailed accident report, the court said if the vehicle was in good condition, being driven in the right lane at the right speed, the accident which was caused at a non-zebra crossing, could be attributed to the sudden appearance of the jaywalker in front of the vehicle.In the circumstances, a portion of the blame and negligence would have to be shared by the claimant. While noting that there was a fair chance of the accident being avoided if the vehicle was being driven at the permissible limit and maintaining fair distance with the vehicle moving ahead of it, the court said, \"\" One has also to bear in mind that not all city roads are carefully marked for pedestrian or zebra crossing.\"\"\"\"The time of the accident was about 9.40 am. The visibility was clear. The appellant could have well seen from some distance the movement of the pedestrian crossing the road,\"\" the court added.\"\r",
      "\r\n"
     ]
    }
   ],
   "source": [
    "! head data/text_summarization/news_summary.csv"
   ]
  },
  {
   "cell_type": "code",
   "execution_count": 9,
   "metadata": {},
   "outputs": [],
   "source": [
    "df = pd.read_csv('data/text_summarization/news_summary.csv',encoding = \"utf-8\")"
   ]
  },
  {
   "cell_type": "code",
   "execution_count": 10,
   "metadata": {},
   "outputs": [
    {
     "data": {
      "text/plain": [
       "(4514, 6)"
      ]
     },
     "execution_count": 10,
     "metadata": {},
     "output_type": "execute_result"
    }
   ],
   "source": [
    "df.shape"
   ]
  },
  {
   "cell_type": "code",
   "execution_count": 14,
   "metadata": {},
   "outputs": [
    {
     "data": {
      "text/html": [
       "<div>\n",
       "<style scoped>\n",
       "    .dataframe tbody tr th:only-of-type {\n",
       "        vertical-align: middle;\n",
       "    }\n",
       "\n",
       "    .dataframe tbody tr th {\n",
       "        vertical-align: top;\n",
       "    }\n",
       "\n",
       "    .dataframe thead th {\n",
       "        text-align: right;\n",
       "    }\n",
       "</style>\n",
       "<table border=\"1\" class=\"dataframe\">\n",
       "  <thead>\n",
       "    <tr style=\"text-align: right;\">\n",
       "      <th></th>\n",
       "      <th>author</th>\n",
       "      <th>date</th>\n",
       "      <th>headlines</th>\n",
       "      <th>read_more</th>\n",
       "      <th>text</th>\n",
       "      <th>ctext</th>\n",
       "    </tr>\n",
       "  </thead>\n",
       "  <tbody>\n",
       "    <tr>\n",
       "      <th>2714</th>\n",
       "      <td>Rini Sinha</td>\n",
       "      <td>04 Jul 2017,Tuesday</td>\n",
       "      <td>I felt angry after watching Lipstick Under My Burkha: Ekta</td>\n",
       "      <td>http://indiatoday.intoday.in/story/i-got-angry-when-i-watched-lipstick-under-my-burkha-ekta/1/993882.html</td>\n",
       "      <td>Film-television producer Ekta Kapoor has said that she felt angry after watching the film Lipstick Under My Burkha. She added, \"I saw the film and realised we really live in a world where as women we are not allowed to do or say anything.\" Notably, the film will be distributed by Ekta Kapoor's ALT Balaji and Balaji Motion Pictures.</td>\n",
       "      <td>New Delhi, Jul 4 (PTI) Producer Ekta Kapoor has said she came up with a \"sassy promo\" for \"Lipstick Under My Burkha\" as she wanted the film to reach out to wider audiences rather than being confined to the art film zone. The movie hit a roadblock with the Central Board of Film Certification (CBFC) soon after Ekta came onboard as a distributor but it only strengthened her desire to take the movie to the masses. \"The film made me angry. I saw the film and realised we really live in a world where as women we are not allowed to do or say anything. Here was this entertaining movie that spoke about what I think. Why didnt I think of it? I loved it,\" Ekta, 42, told PTI in an interview. She came onboard the project when it had already hit a roadblock. Jha called her to watch the film and asked whether she would like to distribute and she immediately agreed. \"I decided to distribute this movie knowing that I might not earn profits. Then I was hoping we would get a certificate and thats when it landed into a soup with the censor board.\" The board was criticised for being regressive by refusing certification to Lipstick... as the film was \"lady- oriented\". The makers approached the Film Certification Appellate Tribunal (FCAT), which directed the CBFC to certify the film with few cuts. After the film was cleared for release, Ektas team came up with an edgy poster of the film, which depicts a woman showing her middle finger. \"I thought, will this be an artie movie that 200 people will watch or a film where Ill get more and more women to see it? So, we got a sassy promo out, edgy as hell with great Hindi masala music and have more women pay attention to it. I felt this was the way to go forward.\" As someone who has produced shows on TV before venturing into cinema, Ekta understands the duality of the audiences in India. \"Hamare khaane ke daant aur, dikhane ke daant aur hain. What I say in front of my parents, I wont repeat the same with my friends. And we are okay with it. \"This is our society, this is how weve been brought up. But it doesnt mean I dont like discussing such topics. It means I will take up these issues in a different medium at the right time.\" Ekta said lipstick, as a symbol, had less to do with vanity and more to do with freedom of choice. \"When you wear lipstick for vanity, it makes you look good. A lot of women say they wear lipstick when they want to feel good. I read somewhere there is nothing that a right shade of lipstick cant fix. So many acts by us are a form of rebellion.\" Spilling details about the first scene of the film, Ekta said one of the characters goes to a shop and steals a lipstick.</td>\n",
       "    </tr>\n",
       "  </tbody>\n",
       "</table>\n",
       "</div>"
      ],
      "text/plain": [
       "          author                 date  \\\n",
       "2714  Rini Sinha  04 Jul 2017,Tuesday   \n",
       "\n",
       "                                                       headlines  \\\n",
       "2714  I felt angry after watching Lipstick Under My Burkha: Ekta   \n",
       "\n",
       "                                                                                                       read_more  \\\n",
       "2714  http://indiatoday.intoday.in/story/i-got-angry-when-i-watched-lipstick-under-my-burkha-ekta/1/993882.html    \n",
       "\n",
       "                                                                                                                                                                                                                                                                                                                                               text  \\\n",
       "2714  Film-television producer Ekta Kapoor has said that she felt angry after watching the film Lipstick Under My Burkha. She added, \"I saw the film and realised we really live in a world where as women we are not allowed to do or say anything.\" Notably, the film will be distributed by Ekta Kapoor's ALT Balaji and Balaji Motion Pictures.   \n",
       "\n",
       "                                                                                                                                                                                                                                                                                                                                                                                                                                                                                                                                                                                                                                                                                                                                                                                                                                                                                                                                                                                                                                                                                                                                                                                                                                                                                                                                                                                                                                                                                                                                                                                                                                                                                                                                                                                                                                                                                                                                                                                                                                                                                                                                                                                                                                                                                                                                                                                                                                                                                                                                                                                                                                                                                                                                                             ctext  \n",
       "2714  New Delhi, Jul 4 (PTI) Producer Ekta Kapoor has said she came up with a \"sassy promo\" for \"Lipstick Under My Burkha\" as she wanted the film to reach out to wider audiences rather than being confined to the art film zone. The movie hit a roadblock with the Central Board of Film Certification (CBFC) soon after Ekta came onboard as a distributor but it only strengthened her desire to take the movie to the masses. \"The film made me angry. I saw the film and realised we really live in a world where as women we are not allowed to do or say anything. Here was this entertaining movie that spoke about what I think. Why didnt I think of it? I loved it,\" Ekta, 42, told PTI in an interview. She came onboard the project when it had already hit a roadblock. Jha called her to watch the film and asked whether she would like to distribute and she immediately agreed. \"I decided to distribute this movie knowing that I might not earn profits. Then I was hoping we would get a certificate and thats when it landed into a soup with the censor board.\" The board was criticised for being regressive by refusing certification to Lipstick... as the film was \"lady- oriented\". The makers approached the Film Certification Appellate Tribunal (FCAT), which directed the CBFC to certify the film with few cuts. After the film was cleared for release, Ektas team came up with an edgy poster of the film, which depicts a woman showing her middle finger. \"I thought, will this be an artie movie that 200 people will watch or a film where Ill get more and more women to see it? So, we got a sassy promo out, edgy as hell with great Hindi masala music and have more women pay attention to it. I felt this was the way to go forward.\" As someone who has produced shows on TV before venturing into cinema, Ekta understands the duality of the audiences in India. \"Hamare khaane ke daant aur, dikhane ke daant aur hain. What I say in front of my parents, I wont repeat the same with my friends. And we are okay with it. \"This is our society, this is how weve been brought up. But it doesnt mean I dont like discussing such topics. It means I will take up these issues in a different medium at the right time.\" Ekta said lipstick, as a symbol, had less to do with vanity and more to do with freedom of choice. \"When you wear lipstick for vanity, it makes you look good. A lot of women say they wear lipstick when they want to feel good. I read somewhere there is nothing that a right shade of lipstick cant fix. So many acts by us are a form of rebellion.\" Spilling details about the first scene of the film, Ekta said one of the characters goes to a shop and steals a lipstick.   "
      ]
     },
     "execution_count": 14,
     "metadata": {},
     "output_type": "execute_result"
    }
   ],
   "source": [
    "df.sample()"
   ]
  },
  {
   "cell_type": "code",
   "execution_count": 12,
   "metadata": {},
   "outputs": [
    {
     "name": "stderr",
     "output_type": "stream",
     "text": [
      "<ipython-input-12-760881dbd5b3>:3: FutureWarning: Passing a negative integer is deprecated in version 1.0 and will not be supported in future version. Instead, use None to not limit the column width.\n",
      "  pd.set_option('display.max_colwidth', -1)\n"
     ]
    }
   ],
   "source": [
    "pd.set_option('display.max_columns', None)  # or 1000\n",
    "pd.set_option('display.max_rows', None)  # or 1000\n",
    "pd.set_option('display.max_colwidth', -1)\n"
   ]
  },
  {
   "cell_type": "code",
   "execution_count": null,
   "metadata": {},
   "outputs": [],
   "source": []
  }
 ],
 "metadata": {
  "kernelspec": {
   "display_name": "Python 3",
   "language": "python",
   "name": "python3"
  },
  "language_info": {
   "codemirror_mode": {
    "name": "ipython",
    "version": 3
   },
   "file_extension": ".py",
   "mimetype": "text/x-python",
   "name": "python",
   "nbconvert_exporter": "python",
   "pygments_lexer": "ipython3",
   "version": "3.8.5"
  }
 },
 "nbformat": 4,
 "nbformat_minor": 4
}
