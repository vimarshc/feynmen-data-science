{
 "cells": [
  {
   "cell_type": "code",
   "execution_count": 1,
   "id": "correct-course",
   "metadata": {},
   "outputs": [],
   "source": [
    "#export\n",
    "from exp.nb_06 import *"
   ]
  },
  {
   "cell_type": "code",
   "execution_count": 2,
   "id": "every-score",
   "metadata": {},
   "outputs": [],
   "source": [
    "x_train,y_train,x_valid,y_valid = get_data()\n",
    "\n",
    "train_ds,valid_ds = Dataset(x_train, y_train),Dataset(x_valid, y_valid)\n",
    "\n",
    "nh,bs = 50,512\n",
    "c = y_train.max().item()+1\n",
    "loss_func = F.cross_entropy\n",
    "\n",
    "data = DataBunch(*get_dls(train_ds, valid_ds, bs), c)"
   ]
  },
  {
   "cell_type": "code",
   "execution_count": 3,
   "id": "beginning-collar",
   "metadata": {},
   "outputs": [],
   "source": [
    "mnist_view = view_tfm(1,28,28)\n",
    "cbfs = [Recorder,\n",
    "        partial(AvgStatsCallback,accuracy),\n",
    "        CudaCallback,\n",
    "        partial(BatchTransformXCallback, mnist_view)]"
   ]
  },
  {
   "cell_type": "code",
   "execution_count": 4,
   "id": "apart-leave",
   "metadata": {},
   "outputs": [],
   "source": [
    "nfs = [8,16,32,64,64]"
   ]
  },
  {
   "cell_type": "code",
   "execution_count": 5,
   "id": "brown-michigan",
   "metadata": {},
   "outputs": [],
   "source": [
    "learn,run = get_learn_run(nfs, data, 0.4, conv_layer, cbs=cbfs)"
   ]
  },
  {
   "cell_type": "code",
   "execution_count": 6,
   "id": "tutorial-drawing",
   "metadata": {},
   "outputs": [
    {
     "name": "stdout",
     "output_type": "stream",
     "text": [
      "train: [1.0469061848958334, tensor(0.6673, device='cuda:0')]\n",
      "valid: [0.18533609619140626, tensor(0.9436, device='cuda:0')]\n",
      "train: [0.15549513346354166, tensor(0.9523, device='cuda:0')]\n",
      "valid: [0.1103864990234375, tensor(0.9641, device='cuda:0')]\n",
      "CPU times: user 6.72 s, sys: 1.41 s, total: 8.13 s\n",
      "Wall time: 8.11 s\n"
     ]
    }
   ],
   "source": [
    "%time run.fit(2, learn)"
   ]
  },
  {
   "cell_type": "markdown",
   "id": "lucky-links",
   "metadata": {},
   "source": [
    "## Batchnorm"
   ]
  },
  {
   "cell_type": "code",
   "execution_count": 17,
   "id": "republican-electric",
   "metadata": {},
   "outputs": [],
   "source": [
    "class BatchNorm(nn.Module):\n",
    "    def __init__(self, nf, mom=0.1, eps=1e-5):\n",
    "        super().__init__()\n",
    "        # NB: pytorch bn mom is opposite of what you'd expect\n",
    "        self.mom,self.eps = mom,eps\n",
    "        self.mults = nn.Parameter(torch.ones (nf,1,1))\n",
    "        self.adds  = nn.Parameter(torch.zeros(nf,1,1))\n",
    "        self.register_buffer('vars',  torch.ones(1,nf,1,1))\n",
    "        self.register_buffer('means', torch.zeros(1,nf,1,1))\n",
    "\n",
    "    def update_stats(self, x):\n",
    "        m = x.mean((0,2,3), keepdim=True)\n",
    "        v = x.var ((0,2,3), keepdim=True)\n",
    "        self.means.lerp_(m, self.mom)\n",
    "        self.vars.lerp_ (v, self.mom)\n",
    "        return m,v\n",
    "        \n",
    "    def forward(self, x):\n",
    "        if self.training:\n",
    "            with torch.no_grad(): m,v = self.update_stats(x)\n",
    "        else: m,v = self.means,self.vars\n",
    "        x = (x-m) / (v+self.eps).sqrt()\n",
    "        return x*self.mults + self.adds"
   ]
  },
  {
   "cell_type": "code",
   "execution_count": 12,
   "id": "statewide-breed",
   "metadata": {},
   "outputs": [],
   "source": [
    "x = torch.randn(128,10,28,28)"
   ]
  },
  {
   "cell_type": "code",
   "execution_count": 15,
   "id": "otherwise-florist",
   "metadata": {},
   "outputs": [
    {
     "data": {
      "text/plain": [
       "tensor([[[[0.0007]]]])"
      ]
     },
     "execution_count": 15,
     "metadata": {},
     "output_type": "execute_result"
    }
   ],
   "source": [
    "x.mean((0,1,2,3),keepdim=True)"
   ]
  },
  {
   "cell_type": "code",
   "execution_count": 16,
   "id": "elder-luxembourg",
   "metadata": {},
   "outputs": [
    {
     "data": {
      "text/plain": [
       "tensor(0.0007)"
      ]
     },
     "execution_count": 16,
     "metadata": {},
     "output_type": "execute_result"
    }
   ],
   "source": [
    "x.mean()"
   ]
  },
  {
   "cell_type": "code",
   "execution_count": 20,
   "id": "introductory-melbourne",
   "metadata": {},
   "outputs": [],
   "source": [
    "def conv_layer(ni, nf, ks=3, stride=2, bn=True, **kwargs):\n",
    "    # No bias needed if using bn\n",
    "    layers = [nn.Conv2d(ni, nf, ks, padding=ks//2, stride=stride, bias=not bn),\n",
    "              GeneralRelu(**kwargs)]\n",
    "    if bn: layers.append(BatchNorm(nf))\n",
    "    return nn.Sequential(*layers)"
   ]
  },
  {
   "cell_type": "code",
   "execution_count": 21,
   "id": "gentle-joshua",
   "metadata": {},
   "outputs": [],
   "source": [
    "#export\n",
    "def init_cnn_(m, f):\n",
    "    if isinstance(m, nn.Conv2d):\n",
    "        f(m.weight, a=0.1)\n",
    "        if getattr(m, 'bias', None) is not None: m.bias.data.zero_()\n",
    "    for l in m.children(): init_cnn_(l, f)\n",
    "\n",
    "def init_cnn(m, uniform=False):\n",
    "    f = init.kaiming_uniform_ if uniform else init.kaiming_normal_\n",
    "    init_cnn_(m, f)\n",
    "\n",
    "def get_learn_run(nfs, data, lr, layer, cbs=None, opt_func=None, uniform=False, **kwargs):\n",
    "    model = get_cnn_model(data, nfs, layer, **kwargs)\n",
    "    init_cnn(model, uniform=uniform)\n",
    "    return get_runner(model, data, lr=lr, cbs=cbs, opt_func=opt_func)"
   ]
  },
  {
   "cell_type": "code",
   "execution_count": 22,
   "id": "descending-chocolate",
   "metadata": {},
   "outputs": [],
   "source": [
    "learn,run = get_learn_run(nfs, data, 0.9, conv_layer, cbs=cbfs)"
   ]
  },
  {
   "cell_type": "code",
   "execution_count": 23,
   "id": "motivated-individual",
   "metadata": {},
   "outputs": [
    {
     "data": {
      "text/plain": [
       "Sequential(\n",
       "  (0): Sequential(\n",
       "    (0): Conv2d(1, 8, kernel_size=(5, 5), stride=(2, 2), padding=(2, 2), bias=False)\n",
       "    (1): GeneralRelu()\n",
       "    (2): BatchNorm()\n",
       "  )\n",
       "  (1): Sequential(\n",
       "    (0): Conv2d(8, 16, kernel_size=(3, 3), stride=(2, 2), padding=(1, 1), bias=False)\n",
       "    (1): GeneralRelu()\n",
       "    (2): BatchNorm()\n",
       "  )\n",
       "  (2): Sequential(\n",
       "    (0): Conv2d(16, 32, kernel_size=(3, 3), stride=(2, 2), padding=(1, 1), bias=False)\n",
       "    (1): GeneralRelu()\n",
       "    (2): BatchNorm()\n",
       "  )\n",
       "  (3): Sequential(\n",
       "    (0): Conv2d(32, 64, kernel_size=(3, 3), stride=(2, 2), padding=(1, 1), bias=False)\n",
       "    (1): GeneralRelu()\n",
       "    (2): BatchNorm()\n",
       "  )\n",
       "  (4): Sequential(\n",
       "    (0): Conv2d(64, 64, kernel_size=(3, 3), stride=(2, 2), padding=(1, 1), bias=False)\n",
       "    (1): GeneralRelu()\n",
       "    (2): BatchNorm()\n",
       "  )\n",
       "  (5): AdaptiveAvgPool2d(output_size=1)\n",
       "  (6): Lambda()\n",
       "  (7): Linear(in_features=64, out_features=10, bias=True)\n",
       ")"
      ]
     },
     "execution_count": 23,
     "metadata": {},
     "output_type": "execute_result"
    }
   ],
   "source": [
    "learn.model"
   ]
  },
  {
   "cell_type": "code",
   "execution_count": 24,
   "id": "moving-jewel",
   "metadata": {},
   "outputs": [
    {
     "name": "stdout",
     "output_type": "stream",
     "text": [
      "train: [0.254214453125, tensor(0.9218, device='cuda:0')]\n",
      "valid: [0.43441025390625, tensor(0.8602, device='cuda:0')]\n"
     ]
    },
    {
     "data": {
      "image/png": "[encoded data removed]",
      "text/plain": [
       "<Figure size 720x288 with 2 Axes>"
      ]
     },
     "metadata": {
      "needs_background": "light"
     },
     "output_type": "display_data"
    },
    {
     "data": {
      "image/png": "[encoded data removed]",
      "text/plain": [
       "<Figure size 720x288 with 2 Axes>"
      ]
     },
     "metadata": {
      "needs_background": "light"
     },
     "output_type": "display_data"
    }
   ],
   "source": [
    "with Hooks(learn.model, append_stats) as hooks:\n",
    "    run.fit(1, learn)\n",
    "    fig,(ax0,ax1) = plt.subplots(1,2, figsize=(10,4))\n",
    "    for h in hooks[:-1]:\n",
    "        ms,ss = h.stats\n",
    "        ax0.plot(ms[:10])\n",
    "        ax1.plot(ss[:10])\n",
    "        h.remove()\n",
    "    plt.legend(range(6));\n",
    "    \n",
    "    fig,(ax0,ax1) = plt.subplots(1,2, figsize=(10,4))\n",
    "    for h in hooks[:-1]:\n",
    "        ms,ss = h.stats\n",
    "        ax0.plot(ms)\n",
    "        ax1.plot(ss)"
   ]
  },
  {
   "cell_type": "code",
   "execution_count": 25,
   "id": "chinese-montreal",
   "metadata": {},
   "outputs": [],
   "source": [
    "learn,run = get_learn_run(nfs, data, 1.0, conv_layer, cbs=cbfs)"
   ]
  },
  {
   "cell_type": "code",
   "execution_count": 26,
   "id": "psychological-wright",
   "metadata": {},
   "outputs": [
    {
     "name": "stdout",
     "output_type": "stream",
     "text": [
      "train: [0.2395791015625, tensor(0.9242, device='cuda:0')]\n",
      "valid: [0.1888239990234375, tensor(0.9427, device='cuda:0')]\n",
      "train: [0.07840967610677084, tensor(0.9766, device='cuda:0')]\n",
      "valid: [1.615076953125, tensor(0.7391, device='cuda:0')]\n",
      "train: [0.05993067220052083, tensor(0.9805, device='cuda:0')]\n",
      "valid: [0.09948278198242187, tensor(0.9668, device='cuda:0')]\n",
      "CPU times: user 7.28 s, sys: 78.2 ms, total: 7.36 s\n",
      "Wall time: 7.3 s\n"
     ]
    }
   ],
   "source": [
    "%time run.fit(3, learn)"
   ]
  },
  {
   "cell_type": "code",
   "execution_count": 27,
   "id": "native-charge",
   "metadata": {},
   "outputs": [],
   "source": [
    "#export\n",
    "def conv_layer(ni, nf, ks=3, stride=2, bn=True, **kwargs):\n",
    "    layers = [nn.Conv2d(ni, nf, ks, padding=ks//2, stride=stride, bias=not bn),\n",
    "              GeneralRelu(**kwargs)]\n",
    "    if bn: layers.append(nn.BatchNorm2d(nf, eps=1e-5, momentum=0.1))\n",
    "    return nn.Sequential(*layers)"
   ]
  },
  {
   "cell_type": "code",
   "execution_count": 28,
   "id": "acting-strategy",
   "metadata": {},
   "outputs": [],
   "source": [
    "learn,run = get_learn_run(nfs, data, 1., conv_layer, cbs=cbfs)"
   ]
  },
  {
   "cell_type": "code",
   "execution_count": 29,
   "id": "yellow-smart",
   "metadata": {},
   "outputs": [
    {
     "name": "stdout",
     "output_type": "stream",
     "text": [
      "train: [0.19813444010416667, tensor(0.9383, device='cuda:0')]\n",
      "valid: [0.206664013671875, tensor(0.9330, device='cuda:0')]\n",
      "train: [0.060713509114583335, tensor(0.9813, device='cuda:0')]\n",
      "valid: [0.17020653076171874, tensor(0.9410, device='cuda:0')]\n",
      "train: [0.04411284993489583, tensor(0.9862, device='cuda:0')]\n",
      "valid: [0.08159256591796875, tensor(0.9713, device='cuda:0')]\n",
      "CPU times: user 7.1 s, sys: 57.8 ms, total: 7.15 s\n",
      "Wall time: 7.1 s\n"
     ]
    }
   ],
   "source": [
    "%time run.fit(3, learn)"
   ]
  },
  {
   "cell_type": "code",
   "execution_count": 30,
   "id": "protected-juice",
   "metadata": {},
   "outputs": [],
   "source": [
    "sched = combine_scheds([0.3, 0.7], [sched_lin(0.6, 2.), sched_lin(2., 0.1)]) \n",
    "learn,run = get_learn_run(nfs, data, 0.9, conv_layer, cbs=cbfs\n",
    "                          +[partial(ParamScheduler,'lr', sched)])"
   ]
  },
  {
   "cell_type": "code",
   "execution_count": 31,
   "id": "unnecessary-deviation",
   "metadata": {},
   "outputs": [
    {
     "name": "stderr",
     "output_type": "stream",
     "text": [
      "/home/feynmen-data-science/fastai2019_ii/exp/nb_06.py:138: UserWarning: This overload of nonzero is deprecated:\n",
      "\tnonzero()\n",
      "Consider using one of the following signatures instead:\n",
      "\tnonzero(*, bool as_tuple) (Triggered internally at  /pytorch/torch/csrc/utils/python_arg_parser.cpp:882.)\n",
      "  idx = (pos >= pcts).nonzero().max()\n"
     ]
    },
    {
     "name": "stdout",
     "output_type": "stream",
     "text": [
      "train: [0.221611279296875, tensor(0.9332, device='cuda:0')]\n",
      "valid: [0.1627821533203125, tensor(0.9495, device='cuda:0')]\n",
      "train: [0.0734353759765625, tensor(0.9767, device='cuda:0')]\n",
      "valid: [1.1900193359375, tensor(0.8527, device='cuda:0')]\n",
      "train: [0.07759991861979167, tensor(0.9769, device='cuda:0')]\n",
      "valid: [0.08410714111328126, tensor(0.9731, device='cuda:0')]\n",
      "train: [0.031455548095703126, tensor(0.9902, device='cuda:0')]\n",
      "valid: [0.05022736511230469, tensor(0.9830, device='cuda:0')]\n",
      "train: [0.019780196126302083, tensor(0.9941, device='cuda:0')]\n",
      "valid: [0.04087331848144531, tensor(0.9872, device='cuda:0')]\n",
      "train: [0.01230558573404948, tensor(0.9964, device='cuda:0')]\n",
      "valid: [0.033686236572265625, tensor(0.9883, device='cuda:0')]\n",
      "train: [0.007716472880045573, tensor(0.9983, device='cuda:0')]\n",
      "valid: [0.03497106323242188, tensor(0.9884, device='cuda:0')]\n",
      "train: [0.0056584716796875, tensor(0.9991, device='cuda:0')]\n",
      "valid: [0.0339574462890625, tensor(0.9884, device='cuda:0')]\n"
     ]
    }
   ],
   "source": [
    "run.fit(8, learn)"
   ]
  },
  {
   "cell_type": "markdown",
   "id": "contemporary-function",
   "metadata": {},
   "source": [
    "## LayerNorm "
   ]
  },
  {
   "cell_type": "code",
   "execution_count": 43,
   "id": "adult-spanish",
   "metadata": {},
   "outputs": [],
   "source": [
    "class LayerNorm(nn.Module):\n",
    "    __constants__ = ['eps']\n",
    "    def __init__(self, eps=1e-5):\n",
    "        super().__init__()\n",
    "        self.eps = eps\n",
    "        self.mult = nn.Parameter(torch.ones(1))\n",
    "        self.add  = nn.Parameter(torch.zeros(1))\n",
    "\n",
    "    def forward(self, x):\n",
    "        m = x.mean((1,2,3), keepdim=True)\n",
    "        v = x.var ((1,2,3), keepdim=True)\n",
    "        x = (x-m) / ((v+self.eps).sqrt())\n",
    "        return x*self.mult + self.add"
   ]
  },
  {
   "cell_type": "code",
   "execution_count": 44,
   "id": "junior-fifteen",
   "metadata": {},
   "outputs": [
    {
     "data": {
      "text/plain": [
       "torch.Size([128, 1, 1, 1])"
      ]
     },
     "execution_count": 44,
     "metadata": {},
     "output_type": "execute_result"
    }
   ],
   "source": [
    "x = torch.randn(128,32,28,28)\n",
    "x.mean((1,2,3),keepdim=True).shape"
   ]
  },
  {
   "cell_type": "code",
   "execution_count": 45,
   "id": "included-emerald",
   "metadata": {},
   "outputs": [],
   "source": [
    "def conv_ln(ni, nf, ks=3, stride=2, bn=True, **kwargs):\n",
    "    layers = [nn.Conv2d(ni, nf, ks, padding=ks//2, stride=stride, bias=True),\n",
    "              GeneralRelu(**kwargs)]\n",
    "    if bn: layers.append(LayerNorm())\n",
    "    return nn.Sequential(*layers)"
   ]
  },
  {
   "cell_type": "code",
   "execution_count": 46,
   "id": "elementary-quantity",
   "metadata": {},
   "outputs": [],
   "source": [
    "learn,run = get_learn_run(nfs, data, 0.8, conv_ln, cbs=cbfs)"
   ]
  },
  {
   "cell_type": "code",
   "execution_count": 47,
   "id": "prepared-harvey",
   "metadata": {},
   "outputs": [
    {
     "name": "stdout",
     "output_type": "stream",
     "text": [
      "train: [nan, tensor(0.1201, device='cuda:0')]\n",
      "valid: [nan, tensor(0.0980, device='cuda:0')]\n",
      "train: [nan, tensor(0.0987, device='cuda:0')]\n",
      "valid: [nan, tensor(0.0980, device='cuda:0')]\n",
      "train: [nan, tensor(0.0987, device='cuda:0')]\n",
      "valid: [nan, tensor(0.0980, device='cuda:0')]\n",
      "CPU times: user 8.87 s, sys: 57 ms, total: 8.93 s\n",
      "Wall time: 8.87 s\n"
     ]
    }
   ],
   "source": [
    "%time run.fit(3, learn)"
   ]
  },
  {
   "cell_type": "markdown",
   "id": "ambient-absolute",
   "metadata": {},
   "source": [
    "## InstanceNorm "
   ]
  },
  {
   "cell_type": "code",
   "execution_count": 48,
   "id": "serial-process",
   "metadata": {},
   "outputs": [],
   "source": [
    "class InstanceNorm(nn.Module):\n",
    "    __constants__ = ['eps']\n",
    "    def __init__(self, nf, eps=1e-0):\n",
    "        super().__init__()\n",
    "        self.eps = eps\n",
    "        self.mults = nn.Parameter(torch.ones (nf,1,1))\n",
    "        self.adds  = nn.Parameter(torch.zeros(nf,1,1))\n",
    "\n",
    "    def forward(self, x):\n",
    "        m = x.mean((2,3), keepdim=True)\n",
    "        v = x.var ((2,3), keepdim=True)\n",
    "        res = (x-m) / ((v+self.eps).sqrt())\n",
    "        return res*self.mults + self.adds"
   ]
  },
  {
   "cell_type": "code",
   "execution_count": 49,
   "id": "active-truth",
   "metadata": {},
   "outputs": [],
   "source": [
    "def conv_in(ni, nf, ks=3, stride=2, bn=True, **kwargs):\n",
    "    layers = [nn.Conv2d(ni, nf, ks, padding=ks//2, stride=stride, bias=True),\n",
    "              GeneralRelu(**kwargs)]\n",
    "    if bn: layers.append(InstanceNorm(nf))\n",
    "    return nn.Sequential(*layers)"
   ]
  },
  {
   "cell_type": "code",
   "execution_count": 50,
   "id": "professional-verse",
   "metadata": {},
   "outputs": [],
   "source": [
    "learn,run = get_learn_run(nfs, data, 0.1, conv_in, cbs=cbfs)"
   ]
  },
  {
   "cell_type": "code",
   "execution_count": 51,
   "id": "competitive-march",
   "metadata": {},
   "outputs": [
    {
     "name": "stdout",
     "output_type": "stream",
     "text": [
      "train: [nan, tensor(0.0987, device='cuda:0')]\n",
      "valid: [nan, tensor(0.0980, device='cuda:0')]\n",
      "train: [nan, tensor(0.0987, device='cuda:0')]\n",
      "valid: [nan, tensor(0.0980, device='cuda:0')]\n",
      "train: [nan, tensor(0.0987, device='cuda:0')]\n",
      "valid: [nan, tensor(0.0980, device='cuda:0')]\n",
      "CPU times: user 8.84 s, sys: 118 ms, total: 8.96 s\n",
      "Wall time: 8.91 s\n"
     ]
    }
   ],
   "source": [
    "%time run.fit(3, learn)"
   ]
  },
  {
   "cell_type": "markdown",
   "id": "every-block",
   "metadata": {},
   "source": [
    "## Fix small batches "
   ]
  },
  {
   "cell_type": "code",
   "execution_count": 52,
   "id": "exclusive-charter",
   "metadata": {},
   "outputs": [],
   "source": [
    "data = DataBunch(*get_dls(train_ds, valid_ds, 2), c)"
   ]
  },
  {
   "cell_type": "code",
   "execution_count": 53,
   "id": "unlimited-arabic",
   "metadata": {},
   "outputs": [],
   "source": [
    "def conv_layer(ni, nf, ks=3, stride=2, bn=True, **kwargs):\n",
    "    layers = [nn.Conv2d(ni, nf, ks, padding=ks//2, stride=stride, bias=not bn),\n",
    "              GeneralRelu(**kwargs)]\n",
    "    if bn: layers.append(nn.BatchNorm2d(nf, eps=1e-5, momentum=0.1))\n",
    "    return nn.Sequential(*layers)"
   ]
  },
  {
   "cell_type": "code",
   "execution_count": 54,
   "id": "proud-fever",
   "metadata": {},
   "outputs": [],
   "source": [
    "learn,run = get_learn_run(nfs, data, 0.4, conv_layer, cbs=cbfs)"
   ]
  },
  {
   "cell_type": "code",
   "execution_count": 55,
   "id": "studied-sherman",
   "metadata": {},
   "outputs": [
    {
     "name": "stdout",
     "output_type": "stream",
     "text": [
      "train: [2.351509114583333, tensor(0.1520, device='cuda:0')]\n",
      "valid: [282173.7728, tensor(0.1837, device='cuda:0')]\n",
      "CPU times: user 2min 26s, sys: 1.2 s, total: 2min 27s\n",
      "Wall time: 2min 27s\n"
     ]
    }
   ],
   "source": [
    "%time run.fit(1, learn)"
   ]
  },
  {
   "cell_type": "markdown",
   "id": "historic-payroll",
   "metadata": {},
   "source": [
    "## Running Batch Norm "
   ]
  },
  {
   "cell_type": "code",
   "execution_count": 56,
   "id": "essential-capitol",
   "metadata": {},
   "outputs": [],
   "source": [
    "class RunningBatchNorm(nn.Module):\n",
    "    def __init__(self, nf, mom=0.1, eps=1e-5):\n",
    "        super().__init__()\n",
    "        self.mom,self.eps = mom,eps\n",
    "        self.mults = nn.Parameter(torch.ones (nf,1,1))\n",
    "        self.adds = nn.Parameter(torch.zeros(nf,1,1))\n",
    "        self.register_buffer('sums', torch.zeros(1,nf,1,1))\n",
    "        self.register_buffer('sqrs', torch.zeros(1,nf,1,1))\n",
    "        self.register_buffer('batch', tensor(0.))\n",
    "        self.register_buffer('count', tensor(0.))\n",
    "        self.register_buffer('step', tensor(0.))\n",
    "        self.register_buffer('dbias', tensor(0.))\n",
    "\n",
    "    def update_stats(self, x):\n",
    "        bs,nc,*_ = x.shape\n",
    "        self.sums.detach_()\n",
    "        self.sqrs.detach_()\n",
    "        dims = (0,2,3)\n",
    "        s = x.sum(dims, keepdim=True)\n",
    "        ss = (x*x).sum(dims, keepdim=True)\n",
    "        c = self.count.new_tensor(x.numel()/nc)\n",
    "        mom1 = 1 - (1-self.mom)/math.sqrt(bs-1)\n",
    "        self.mom1 = self.dbias.new_tensor(mom1)\n",
    "        self.sums.lerp_(s, self.mom1)\n",
    "        self.sqrs.lerp_(ss, self.mom1)\n",
    "        self.count.lerp_(c, self.mom1)\n",
    "        self.dbias = self.dbias*(1-self.mom1) + self.mom1\n",
    "        self.batch += bs\n",
    "        self.step += 1\n",
    "\n",
    "    def forward(self, x):\n",
    "        if self.training: self.update_stats(x)\n",
    "        sums = self.sums\n",
    "        sqrs = self.sqrs\n",
    "        c = self.count\n",
    "        if self.step<100:\n",
    "            sums = sums / self.dbias\n",
    "            sqrs = sqrs / self.dbias\n",
    "            c    = c    / self.dbias\n",
    "        means = sums/c\n",
    "        vars = (sqrs/c).sub_(means*means)\n",
    "        if bool(self.batch < 20): vars.clamp_min_(0.01)\n",
    "        x = (x-means).div_((vars.add_(self.eps)).sqrt())\n",
    "        return x.mul_(self.mults).add_(self.adds)"
   ]
  },
  {
   "cell_type": "code",
   "execution_count": 57,
   "id": "signal-craps",
   "metadata": {},
   "outputs": [],
   "source": [
    "def conv_rbn(ni, nf, ks=3, stride=2, bn=True, **kwargs):\n",
    "    layers = [nn.Conv2d(ni, nf, ks, padding=ks//2, stride=stride, bias=not bn),\n",
    "              GeneralRelu(**kwargs)]\n",
    "    if bn: layers.append(RunningBatchNorm(nf))\n",
    "    return nn.Sequential(*layers)"
   ]
  },
  {
   "cell_type": "code",
   "execution_count": 59,
   "id": "guilty-format",
   "metadata": {},
   "outputs": [
    {
     "name": "stdout",
     "output_type": "stream",
     "text": [
      "train: [2.3321815104166665, tensor(0.1745, device='cuda:0')]\n",
      "valid: [12730.1168, tensor(0.2116, device='cuda:0')]\n",
      "train: [2.29255859375, tensor(0.1952, device='cuda:0')]\n",
      "valid: [31995772.928, tensor(0.2543, device='cuda:0')]\n",
      "train: [2.2754497395833333, tensor(0.1999, device='cuda:0')]\n",
      "valid: [49928870.2976, tensor(0.2203, device='cuda:0')]\n",
      "CPU times: user 7min 21s, sys: 5.07 s, total: 7min 26s\n",
      "Wall time: 7min 25s\n"
     ]
    }
   ],
   "source": [
    "%time run.fit(3, learn)"
   ]
  },
  {
   "cell_type": "code",
   "execution_count": 2,
   "id": "gross-prototype",
   "metadata": {},
   "outputs": [
    {
     "name": "stdout",
     "output_type": "stream",
     "text": [
      "Converted 07_batchnorm.ipynb to exp/nb_07.py\n"
     ]
    }
   ],
   "source": [
    "!python notebook2script.py 07_batchnorm.ipynb"
   ]
  },
  {
   "cell_type": "code",
   "execution_count": null,
   "id": "opening-jungle",
   "metadata": {},
   "outputs": [],
   "source": []
  }
 ],
 "metadata": {
  "kernelspec": {
   "display_name": "Python 3",
   "language": "python",
   "name": "python3"
  },
  "language_info": {
   "codemirror_mode": {
    "name": "ipython",
    "version": 3
   },
   "file_extension": ".py",
   "mimetype": "text/x-python",
   "name": "python",
   "nbconvert_exporter": "python",
   "pygments_lexer": "ipython3",
   "version": "3.6.10"
  }
 },
 "nbformat": 4,
 "nbformat_minor": 5
}
