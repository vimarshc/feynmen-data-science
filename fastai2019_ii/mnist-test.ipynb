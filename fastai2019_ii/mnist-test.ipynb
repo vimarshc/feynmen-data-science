{
 "cells": [
  {
   "cell_type": "code",
   "execution_count": 7,
   "id": "political-member",
   "metadata": {},
   "outputs": [],
   "source": [
    "\n",
    "from torchvision.datasets import MNIST \n",
    "from torchvision import transforms \n",
    "from torch.utils.data import DataLoader,Dataset\n",
    "import torch \n",
    "import torch.nn.functional as F \n",
    "from torch.utils.data import DataLoader, SequentialSampler, RandomSampler\n",
    "\n",
    "from exp.nb_02 import * \n",
    "\n",
    "\n",
    "class Flatten(torch.nn.Module):\n",
    "  def forward(self,img):\n",
    "    img_shape = img.shape\n",
    "    return img.view(img_shape[0],img_shape[1]*img_shape[2])\n",
    "\n",
    "mnist_tnfs = transforms.Compose([transforms.ToTensor(),Flatten()])\n",
    "\n",
    "\n",
    "x_train,y_train,x_valid,y_valid = get_data()\n",
    "\n",
    "\n"
   ]
  },
  {
   "cell_type": "code",
   "execution_count": 9,
   "id": "bright-highland",
   "metadata": {},
   "outputs": [],
   "source": [
    "class MNISTDataset(Dataset):\n",
    "    def __init__(self, x, y): self.x,self.y = x,y\n",
    "    def __len__(self): return len(self.x)\n",
    "    def __getitem__(self, i): return self.x[i],self.y[i]"
   ]
  },
  {
   "cell_type": "code",
   "execution_count": 11,
   "id": "sharp-acting",
   "metadata": {},
   "outputs": [],
   "source": [
    "train = MNISTDataset(x_train,y_train)\n",
    "test = MNISTDataset(x_valid,y_valid)"
   ]
  },
  {
   "cell_type": "code",
   "execution_count": 12,
   "id": "northern-james",
   "metadata": {},
   "outputs": [],
   "source": [
    "\n",
    "bs=128\n",
    "train_dl = DataLoader(train,bs,shuffle=True, drop_last=True)\n",
    "valid_dl = DataLoader(test,bs,shuffle=False)\n",
    "\n",
    "def accuracy(out, yb): return (torch.argmax(out, dim=1)==yb).float().mean()\n"
   ]
  },
  {
   "cell_type": "code",
   "execution_count": 38,
   "id": "extra-outside",
   "metadata": {},
   "outputs": [
    {
     "data": {
      "text/plain": [
       "tensor(4)"
      ]
     },
     "execution_count": 38,
     "metadata": {},
     "output_type": "execute_result"
    },
    {
     "data": {
      "image/png": "[encoded data removed]",
      "text/plain": [
       "<Figure size 432x288 with 1 Axes>"
      ]
     },
     "metadata": {
      "needs_background": "light"
     },
     "output_type": "display_data"
    }
   ],
   "source": [
    "import matplotlib.pyplot as plt\n",
    "\n",
    "plt.imshow(x_train[20].view(28,28))\n",
    "y_train[20]"
   ]
  },
  {
   "cell_type": "code",
   "execution_count": 24,
   "id": "professional-onion",
   "metadata": {},
   "outputs": [],
   "source": [
    "\n",
    "n,m = len(train),train[0][0].shape[0]\n",
    "c = y_train.max()+1\n",
    "nh = 10\n",
    "\n",
    "lr = 0.01   # learning rate\n",
    "epochs = 30 # how many epochs to train for\n",
    "n,m,c,lr,epochs\n",
    "\n",
    "class MNISTNN(torch.nn.Module):\n",
    "  def __init__(self,m,nh,c):\n",
    "    super(MNISTNN, self).__init__()\n",
    "    self.lin1 = torch.nn.Linear(m,nh)\n",
    "    self.act1 = torch.nn.ReLU()\n",
    "    self.out = torch.nn.Linear(nh,10)\n",
    "  \n",
    "  def forward(self,xb):\n",
    "    xb = xb.squeeze(1)\n",
    "    return self.out(self.act1(self.lin1(xb)))\n",
    "\n",
    "loss_func = F.cross_entropy\n"
   ]
  },
  {
   "cell_type": "code",
   "execution_count": 27,
   "id": "compliant-mountain",
   "metadata": {},
   "outputs": [
    {
     "data": {
      "text/plain": [
       "tensor(20.7908, grad_fn=<NllLossBackward>)"
      ]
     },
     "execution_count": 27,
     "metadata": {},
     "output_type": "execute_result"
    }
   ],
   "source": [
    "\n",
    "xb,yb = next(iter(valid_dl))\n",
    "assert xb.shape==(bs,28*28)\n",
    "assert yb.shape==(bs,)\n",
    "\n",
    "model = MNISTNN(m,nh,c)\n",
    "\n",
    "model.lin1.bias\n",
    "\n",
    "model_layers = ['lin1','out']\n",
    "\n",
    "loss_func(model(xb), yb)\n"
   ]
  },
  {
   "cell_type": "code",
   "execution_count": 31,
   "id": "threaded-fetish",
   "metadata": {},
   "outputs": [
    {
     "data": {
      "text/plain": [
       "MNISTNN(\n",
       "  (lin1): Linear(in_features=784, out_features=10, bias=True)\n",
       "  (act1): ReLU()\n",
       "  (out): Linear(in_features=10, out_features=10, bias=True)\n",
       ")"
      ]
     },
     "execution_count": 31,
     "metadata": {},
     "output_type": "execute_result"
    }
   ],
   "source": [
    "model"
   ]
  },
  {
   "cell_type": "code",
   "execution_count": 32,
   "id": "nutritional-serbia",
   "metadata": {},
   "outputs": [],
   "source": [
    "\n",
    "\n",
    "def fit(epochs, model, loss_func, train_dl, valid_dl):\n",
    "    for epoch in range(epochs):\n",
    "        # Handle batchnorm / dropout\n",
    "        model.train()\n",
    "#         print(model.training)\n",
    "        for xb,yb in train_dl:\n",
    "            loss = loss_func(model(xb), yb)\n",
    "            loss.backward()\n",
    "            with torch.no_grad():\n",
    "                for layer_name in model_layers:\n",
    "                    l = getattr(model,layer_name)\n",
    "                    l.weight -= l.weight.grad * lr\n",
    "                    l.bias   -= l.bias.grad   * lr\n",
    "                    l.weight.grad.zero_()\n",
    "                    l.bias  .grad.zero_()\n",
    "\n",
    "\n",
    "        model.eval()\n",
    "#         print(model.training)\n",
    "        with torch.no_grad():\n",
    "            tot_loss,tot_acc = 0.,0.\n",
    "            for xb,yb in valid_dl:\n",
    "                pred = model(xb)\n",
    "                tot_loss += loss_func(pred, yb)\n",
    "                tot_acc  += accuracy (pred,yb)\n",
    "        nv = len(valid_dl)\n",
    "        print(epoch, tot_loss/nv, tot_acc/nv)\n",
    "    return tot_loss/nv, tot_acc/nv\n"
   ]
  },
  {
   "cell_type": "code",
   "execution_count": 33,
   "id": "departmental-internet",
   "metadata": {},
   "outputs": [
    {
     "name": "stdout",
     "output_type": "stream",
     "text": [
      "0 tensor(2.1166) tensor(0.1897)\n",
      "1 tensor(2.1056) tensor(0.1942)\n",
      "2 tensor(2.0658) tensor(0.2037)\n",
      "3 tensor(2.0670) tensor(0.2039)\n",
      "4 tensor(2.0435) tensor(0.2084)\n"
     ]
    }
   ],
   "source": [
    "opt = torch.optim.SGD(model.parameters(), lr=lr)\n",
    "model = MNISTNN(m,nh,c)\n",
    "loss,acc = fit(5, model, loss_func, train_dl, valid_dl)\n"
   ]
  },
  {
   "cell_type": "code",
   "execution_count": 34,
   "id": "analyzed-manitoba",
   "metadata": {},
   "outputs": [],
   "source": [
    "\n",
    "def fit(epochs, model, loss_func, opt, train_dl, valid_dl):\n",
    "    for epoch in range(epochs):\n",
    "        # Handle batchnorm / dropout\n",
    "        model.train()\n",
    "#         print(model.training)\n",
    "        for xb,yb in train_dl:\n",
    "            loss = loss_func(model(xb), yb)\n",
    "            loss.backward()\n",
    "            opt.step()\n",
    "            opt.zero_grad()\n",
    "            \n",
    "        model.eval()\n",
    "#         print(model.training)\n",
    "        with torch.no_grad():\n",
    "            tot_loss,tot_acc = 0.,0.\n",
    "            for xb,yb in valid_dl:\n",
    "                pred = model(xb)\n",
    "                tot_loss += loss_func(pred, yb)\n",
    "                tot_acc  += accuracy (pred,yb)\n",
    "        nv = len(valid_dl)\n",
    "        print(epoch, tot_loss/nv, tot_acc/nv)\n",
    "    return tot_loss/nv, tot_acc/nv"
   ]
  },
  {
   "cell_type": "code",
   "execution_count": 35,
   "id": "comparable-major",
   "metadata": {},
   "outputs": [
    {
     "name": "stdout",
     "output_type": "stream",
     "text": [
      "0 tensor(2.1705) tensor(0.1579)\n",
      "1 tensor(2.1260) tensor(0.1866)\n",
      "2 tensor(2.1123) tensor(0.1906)\n",
      "3 tensor(2.3215) tensor(0.1138)\n",
      "4 tensor(2.3228) tensor(0.1140)\n"
     ]
    }
   ],
   "source": [
    "model = MNISTNN(m,nh,c)\n",
    "opt = torch.optim.SGD(model.parameters(), lr=lr)\n",
    "loss,acc = fit(5, model, loss_func, opt, train_dl, valid_dl)\n"
   ]
  },
  {
   "cell_type": "code",
   "execution_count": 36,
   "id": "french-dominant",
   "metadata": {},
   "outputs": [
    {
     "data": {
      "text/plain": [
       "<__main__.MNISTDataset at 0x7f89614575f8>"
      ]
     },
     "execution_count": 36,
     "metadata": {},
     "output_type": "execute_result"
    }
   ],
   "source": [
    "train"
   ]
  },
  {
   "cell_type": "code",
   "execution_count": null,
   "id": "nervous-reviewer",
   "metadata": {},
   "outputs": [],
   "source": []
  }
 ],
 "metadata": {
  "kernelspec": {
   "display_name": "Python 3",
   "language": "python",
   "name": "python3"
  },
  "language_info": {
   "codemirror_mode": {
    "name": "ipython",
    "version": 3
   },
   "file_extension": ".py",
   "mimetype": "text/x-python",
   "name": "python",
   "nbconvert_exporter": "python",
   "pygments_lexer": "ipython3",
   "version": "3.6.10"
  }
 },
 "nbformat": 4,
 "nbformat_minor": 5
}
