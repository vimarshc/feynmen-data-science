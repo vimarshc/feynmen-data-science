{
 "cells": [
  {
   "cell_type": "code",
   "execution_count": 1,
   "id": "indoor-polls",
   "metadata": {},
   "outputs": [],
   "source": [
    "from torchvision.datasets import MNIST \n",
    "from torchvision import transforms \n",
    "from torch.utils.data import DataLoader\n",
    "import torch \n",
    "import torch.nn.functional as F \n",
    "from torch.utils.data import DataLoader, SequentialSampler, RandomSampler"
   ]
  },
  {
   "cell_type": "code",
   "execution_count": 2,
   "id": "persistent-oracle",
   "metadata": {},
   "outputs": [],
   "source": [
    "class Flatten(torch.nn.Module):\n",
    "  def forward(self,img):\n",
    "    img_shape = img.shape\n",
    "    return img.view(img_shape[0],img_shape[1]*img_shape[2])"
   ]
  },
  {
   "cell_type": "code",
   "execution_count": 3,
   "id": "bulgarian-invasion",
   "metadata": {},
   "outputs": [],
   "source": [
    "mnist_tnfs = transforms.Compose([transforms.ToTensor(),Flatten()])\n"
   ]
  },
  {
   "cell_type": "code",
   "execution_count": 4,
   "id": "interim-louis",
   "metadata": {},
   "outputs": [
    {
     "name": "stdout",
     "output_type": "stream",
     "text": [
      "Downloading http://yann.lecun.com/exdb/mnist/train-images-idx3-ubyte.gz to ./MNIST/raw/train-images-idx3-ubyte.gz\n"
     ]
    },
    {
     "data": {
      "application/vnd.jupyter.widget-view+json": {
       "model_id": "e3f87a114ea647e9959ab6cf6b5db9df",
       "version_major": 2,
       "version_minor": 0
      },
      "text/plain": [
       "0it [00:00, ?it/s]"
      ]
     },
     "metadata": {},
     "output_type": "display_data"
    },
    {
     "name": "stdout",
     "output_type": "stream",
     "text": [
      "Extracting ./MNIST/raw/train-images-idx3-ubyte.gz to ./MNIST/raw\n",
      "Downloading http://yann.lecun.com/exdb/mnist/train-labels-idx1-ubyte.gz to ./MNIST/raw/train-labels-idx1-ubyte.gz\n"
     ]
    },
    {
     "data": {
      "application/vnd.jupyter.widget-view+json": {
       "model_id": "b3fc030feaf6490eaf4cd5cabf1cc822",
       "version_major": 2,
       "version_minor": 0
      },
      "text/plain": [
       "0it [00:00, ?it/s]"
      ]
     },
     "metadata": {},
     "output_type": "display_data"
    },
    {
     "name": "stdout",
     "output_type": "stream",
     "text": [
      "Extracting ./MNIST/raw/train-labels-idx1-ubyte.gz to ./MNIST/raw\n",
      "Downloading http://yann.lecun.com/exdb/mnist/t10k-images-idx3-ubyte.gz to ./MNIST/raw/t10k-images-idx3-ubyte.gz\n"
     ]
    },
    {
     "data": {
      "application/vnd.jupyter.widget-view+json": {
       "model_id": "fda909a597264270bf24212039c25600",
       "version_major": 2,
       "version_minor": 0
      },
      "text/plain": [
       "0it [00:00, ?it/s]"
      ]
     },
     "metadata": {},
     "output_type": "display_data"
    },
    {
     "name": "stdout",
     "output_type": "stream",
     "text": [
      "Extracting ./MNIST/raw/t10k-images-idx3-ubyte.gz to ./MNIST/raw\n",
      "Downloading http://yann.lecun.com/exdb/mnist/t10k-labels-idx1-ubyte.gz to ./MNIST/raw/t10k-labels-idx1-ubyte.gz\n"
     ]
    },
    {
     "data": {
      "application/vnd.jupyter.widget-view+json": {
       "model_id": "295df0aa99d2441dbef112e1943fc329",
       "version_major": 2,
       "version_minor": 0
      },
      "text/plain": [
       "0it [00:00, ?it/s]"
      ]
     },
     "metadata": {},
     "output_type": "display_data"
    },
    {
     "name": "stdout",
     "output_type": "stream",
     "text": [
      "Extracting ./MNIST/raw/t10k-labels-idx1-ubyte.gz to ./MNIST/raw\n",
      "Processing...\n",
      "Done!\n"
     ]
    },
    {
     "name": "stderr",
     "output_type": "stream",
     "text": [
      "/opt/conda/lib/python3.6/site-packages/torchvision/datasets/mnist.py:480: UserWarning: The given NumPy array is not writeable, and PyTorch does not support non-writeable tensors. This means you can write to the underlying (supposedly non-writeable) NumPy array using the tensor. You may want to copy the array to protect its data or make it writeable before converting it to a tensor. This type of warning will be suppressed for the rest of this program. (Triggered internally at  /pytorch/torch/csrc/utils/tensor_numpy.cpp:141.)\n",
      "  return torch.from_numpy(parsed.astype(m[2], copy=False)).view(*s)\n"
     ]
    }
   ],
   "source": [
    "train,test = MNIST('.', train=True, download=True,transform=mnist_tnfs), MNIST('.', train=False, download=True,transform=mnist_tnfs)\n"
   ]
  },
  {
   "cell_type": "code",
   "execution_count": 5,
   "id": "optical-composition",
   "metadata": {},
   "outputs": [],
   "source": [
    "bs = 128 \n"
   ]
  },
  {
   "cell_type": "code",
   "execution_count": 37,
   "id": "alike-valve",
   "metadata": {},
   "outputs": [],
   "source": [
    "\n",
    "\n",
    "train_dl = DataLoader(train,bs)\n",
    "valid_dl = DataLoader(test,bs,shuffle=False)"
   ]
  },
  {
   "cell_type": "code",
   "execution_count": 38,
   "id": "extensive-diagram",
   "metadata": {},
   "outputs": [],
   "source": [
    "xb,yb = next(iter(valid_dl))"
   ]
  },
  {
   "cell_type": "code",
   "execution_count": 39,
   "id": "timely-grain",
   "metadata": {},
   "outputs": [],
   "source": [
    "xb,yb = next(iter(valid_dl))\n",
    "assert xb.shape==(bs,1,28*28)\n",
    "assert yb.shape==(bs,)"
   ]
  },
  {
   "cell_type": "code",
   "execution_count": 40,
   "id": "legitimate-cinema",
   "metadata": {},
   "outputs": [
    {
     "data": {
      "text/plain": [
       "10"
      ]
     },
     "execution_count": 40,
     "metadata": {},
     "output_type": "execute_result"
    }
   ],
   "source": [
    "len(train.classes)\n"
   ]
  },
  {
   "cell_type": "code",
   "execution_count": 41,
   "id": "healthy-aviation",
   "metadata": {},
   "outputs": [],
   "source": [
    "def accuracy(out, yb): return (torch.argmax(out, dim=1)==yb).float().mean()\n"
   ]
  },
  {
   "cell_type": "code",
   "execution_count": 42,
   "id": "historical-sunglasses",
   "metadata": {},
   "outputs": [
    {
     "data": {
      "text/plain": [
       "(60000, 784, 10, 0.01, 30)"
      ]
     },
     "execution_count": 42,
     "metadata": {},
     "output_type": "execute_result"
    }
   ],
   "source": [
    "n,m = train.data.shape[0],train.data.shape[1]*train.data.shape[2]\n",
    "c = len(train.classes)\n",
    "nh = 10\n",
    "\n",
    "lr = 0.01   # learning rate\n",
    "epochs = 30 # how many epochs to train for\n",
    "n,m,c,lr,epochs"
   ]
  },
  {
   "cell_type": "code",
   "execution_count": 43,
   "id": "satisfied-deadline",
   "metadata": {},
   "outputs": [],
   "source": [
    "class MNISTNN(torch.nn.Module):\n",
    "  def __init__(self,m,nh,c):\n",
    "    super(MNISTNN, self).__init__()\n",
    "    self.lin1 = torch.nn.Linear(m,nh)\n",
    "    self.act1 = torch.nn.ReLU()\n",
    "    self.out = torch.nn.Linear(nh,10)\n",
    "  \n",
    "  def forward(self,xb):\n",
    "    xb = xb.squeeze(1)\n",
    "    return self.out(self.act1(self.lin1(xb)))"
   ]
  },
  {
   "cell_type": "code",
   "execution_count": 44,
   "id": "complete-occasion",
   "metadata": {},
   "outputs": [],
   "source": [
    "def get_model(nh):\n",
    "    model = MNISTNN(m,nh,c)\n",
    "    return model, torch.optim.SGD(model.parameters(), lr=lr)"
   ]
  },
  {
   "cell_type": "code",
   "execution_count": 45,
   "id": "dietary-release",
   "metadata": {},
   "outputs": [],
   "source": [
    "model,opt = get_model(50)\n"
   ]
  },
  {
   "cell_type": "code",
   "execution_count": 46,
   "id": "forced-newark",
   "metadata": {},
   "outputs": [],
   "source": [
    "loss_func = F.cross_entropy\n"
   ]
  },
  {
   "cell_type": "code",
   "execution_count": 47,
   "id": "determined-accessory",
   "metadata": {},
   "outputs": [
    {
     "data": {
      "text/plain": [
       "tensor(2.2940, grad_fn=<NllLossBackward>)"
      ]
     },
     "execution_count": 47,
     "metadata": {},
     "output_type": "execute_result"
    }
   ],
   "source": [
    "loss_func(model(xb), yb)\n"
   ]
  },
  {
   "cell_type": "code",
   "execution_count": 48,
   "id": "occupied-sheep",
   "metadata": {},
   "outputs": [],
   "source": [
    "model_layers = ['lin1','out']\n"
   ]
  },
  {
   "cell_type": "code",
   "execution_count": 49,
   "id": "false-fishing",
   "metadata": {},
   "outputs": [
    {
     "data": {
      "text/plain": [
       "MNISTNN(\n",
       "  (lin1): Linear(in_features=784, out_features=50, bias=True)\n",
       "  (act1): ReLU()\n",
       "  (out): Linear(in_features=50, out_features=10, bias=True)\n",
       ")"
      ]
     },
     "execution_count": 49,
     "metadata": {},
     "output_type": "execute_result"
    }
   ],
   "source": [
    "model"
   ]
  },
  {
   "cell_type": "code",
   "execution_count": 50,
   "id": "planned-wesley",
   "metadata": {},
   "outputs": [],
   "source": [
    "\n",
    "def fit(epochs, model, loss_func, opt, train_dl, valid_dl):\n",
    "    for epoch in range(epochs):\n",
    "        # Handle batchnorm / dropout\n",
    "        model.train()\n",
    "#         print(model.training)\n",
    "        for xb,yb in train_dl:\n",
    "            loss = loss_func(model(xb), yb)\n",
    "            loss.backward()\n",
    "            opt.step()\n",
    "            opt.zero_grad()\n",
    "\n",
    "        model.eval()\n",
    "#         print(model.training)\n",
    "        with torch.no_grad():\n",
    "            tot_loss,tot_acc = 0.,0.\n",
    "            for xb,yb in valid_dl:\n",
    "                pred = model(xb)\n",
    "                tot_loss += loss_func(pred, yb)\n",
    "                tot_acc  += accuracy (pred,yb)\n",
    "        nv = len(valid_dl)\n",
    "        print(epoch, tot_loss/nv, tot_acc/nv)\n",
    "    return tot_loss/nv, tot_acc/nv"
   ]
  },
  {
   "cell_type": "code",
   "execution_count": 53,
   "id": "material-terror",
   "metadata": {},
   "outputs": [],
   "source": [
    "#export\n",
    "def get_dls(train_ds, valid_ds, bs, **kwargs):\n",
    "    return (DataLoader(train_ds, batch_size=bs),\n",
    "            DataLoader(valid_ds, batch_size=bs*2))"
   ]
  },
  {
   "cell_type": "code",
   "execution_count": 54,
   "id": "stuffed-breakfast",
   "metadata": {},
   "outputs": [
    {
     "name": "stdout",
     "output_type": "stream",
     "text": [
      "0 tensor(1.1148) tensor(0.7837)\n",
      "1 tensor(0.6117) tensor(0.8615)\n",
      "2 tensor(0.4707) tensor(0.8847)\n",
      "3 tensor(0.4082) tensor(0.8948)\n",
      "4 tensor(0.3734) tensor(0.9004)\n"
     ]
    }
   ],
   "source": [
    "train_dl,valid_dl = get_dls(train, test, bs)\n",
    "model,opt = get_model(50)\n",
    "loss,acc = fit(5, model, loss_func, opt, train_dl, valid_dl)"
   ]
  },
  {
   "cell_type": "code",
   "execution_count": 32,
   "id": "moved-bradley",
   "metadata": {},
   "outputs": [],
   "source": [
    "\n",
    "def fit(epochs, model, loss_func, opt, train_dl, valid_dl):\n",
    "    for epoch in range(epochs):\n",
    "        # Handle batchnorm / dropout\n",
    "        model.train()\n",
    "#         print(model.training)\n",
    "        for xb,yb in train_dl:\n",
    "            loss = loss_func(model(xb), yb)\n",
    "            loss.backward()\n",
    "            with torch.no_grad():\n",
    "                for layer_name in model_layers:\n",
    "                    l = getattr(model,layer_name)\n",
    "                    l.weight -= l.weight.grad * lr\n",
    "                    l.bias   -= l.bias.grad   * lr\n",
    "                    l.weight.grad.zero_()\n",
    "                    l.bias  .grad.zero_()\n",
    "\n",
    "\n",
    "\n",
    "        model.eval()\n",
    "#         print(model.training)\n",
    "        with torch.no_grad():\n",
    "            tot_loss,tot_acc = 0.,0.\n",
    "            for xb,yb in valid_dl:\n",
    "                pred = model(xb)\n",
    "                tot_loss += loss_func(pred, yb)\n",
    "                tot_acc  += accuracy (pred,yb)\n",
    "        nv = len(valid_dl)\n",
    "        print(epoch, tot_loss/nv, tot_acc/nv)\n",
    "    return tot_loss/nv, tot_acc/nv"
   ]
  },
  {
   "cell_type": "code",
   "execution_count": 33,
   "id": "cheap-general",
   "metadata": {},
   "outputs": [
    {
     "name": "stdout",
     "output_type": "stream",
     "text": [
      "0 tensor(1.0892) tensor(0.8046)\n",
      "1 tensor(0.5924) tensor(0.8660)\n",
      "2 tensor(0.4600) tensor(0.8870)\n",
      "3 tensor(0.4024) tensor(0.8953)\n",
      "4 tensor(0.3699) tensor(0.9012)\n"
     ]
    }
   ],
   "source": [
    "train_dl,valid_dl = get_dls(train, test, bs)\n",
    "model,opt = get_model(50)\n",
    "loss,acc = fit(5, model, loss_func, opt, train_dl, valid_dl)"
   ]
  },
  {
   "cell_type": "code",
   "execution_count": 36,
   "id": "fresh-stadium",
   "metadata": {},
   "outputs": [
    {
     "ename": "ValueError",
     "evalue": "only one element tensors can be converted to Python scalars",
     "output_type": "error",
     "traceback": [
      "\u001b[0;31m---------------------------------------------------------------------------\u001b[0m",
      "\u001b[0;31mValueError\u001b[0m                                Traceback (most recent call last)",
      "\u001b[0;32m<ipython-input-36-2256559c7032>\u001b[0m in \u001b[0;36m<module>\u001b[0;34m\u001b[0m\n\u001b[0;32m----> 1\u001b[0;31m \u001b[0mtrain\u001b[0m\u001b[0;34m[\u001b[0m\u001b[0;36m0\u001b[0m\u001b[0;34m:\u001b[0m\u001b[0;36m5\u001b[0m\u001b[0;34m]\u001b[0m\u001b[0;34m\u001b[0m\u001b[0;34m\u001b[0m\u001b[0m\n\u001b[0m",
      "\u001b[0;32m/opt/conda/lib/python3.6/site-packages/torchvision/datasets/mnist.py\u001b[0m in \u001b[0;36m__getitem__\u001b[0;34m(self, index)\u001b[0m\n\u001b[1;32m     97\u001b[0m             \u001b[0mtuple\u001b[0m\u001b[0;34m:\u001b[0m \u001b[0;34m(\u001b[0m\u001b[0mimage\u001b[0m\u001b[0;34m,\u001b[0m \u001b[0mtarget\u001b[0m\u001b[0;34m)\u001b[0m \u001b[0mwhere\u001b[0m \u001b[0mtarget\u001b[0m \u001b[0;32mis\u001b[0m \u001b[0mindex\u001b[0m \u001b[0mof\u001b[0m \u001b[0mthe\u001b[0m \u001b[0mtarget\u001b[0m \u001b[0;32mclass\u001b[0m\u001b[0;34m.\u001b[0m\u001b[0;34m\u001b[0m\u001b[0;34m\u001b[0m\u001b[0m\n\u001b[1;32m     98\u001b[0m         \"\"\"\n\u001b[0;32m---> 99\u001b[0;31m         \u001b[0mimg\u001b[0m\u001b[0;34m,\u001b[0m \u001b[0mtarget\u001b[0m \u001b[0;34m=\u001b[0m \u001b[0mself\u001b[0m\u001b[0;34m.\u001b[0m\u001b[0mdata\u001b[0m\u001b[0;34m[\u001b[0m\u001b[0mindex\u001b[0m\u001b[0;34m]\u001b[0m\u001b[0;34m,\u001b[0m \u001b[0mint\u001b[0m\u001b[0;34m(\u001b[0m\u001b[0mself\u001b[0m\u001b[0;34m.\u001b[0m\u001b[0mtargets\u001b[0m\u001b[0;34m[\u001b[0m\u001b[0mindex\u001b[0m\u001b[0;34m]\u001b[0m\u001b[0;34m)\u001b[0m\u001b[0;34m\u001b[0m\u001b[0;34m\u001b[0m\u001b[0m\n\u001b[0m\u001b[1;32m    100\u001b[0m \u001b[0;34m\u001b[0m\u001b[0m\n\u001b[1;32m    101\u001b[0m         \u001b[0;31m# doing this so that it is consistent with all other datasets\u001b[0m\u001b[0;34m\u001b[0m\u001b[0;34m\u001b[0m\u001b[0;34m\u001b[0m\u001b[0m\n",
      "\u001b[0;31mValueError\u001b[0m: only one element tensors can be converted to Python scalars"
     ]
    }
   ],
   "source": [
    "train[0:5]"
   ]
  },
  {
   "cell_type": "code",
   "execution_count": null,
   "id": "prostate-differential",
   "metadata": {},
   "outputs": [],
   "source": []
  }
 ],
 "metadata": {
  "kernelspec": {
   "display_name": "Python 3",
   "language": "python",
   "name": "python3"
  },
  "language_info": {
   "codemirror_mode": {
    "name": "ipython",
    "version": 3
   },
   "file_extension": ".py",
   "mimetype": "text/x-python",
   "name": "python",
   "nbconvert_exporter": "python",
   "pygments_lexer": "ipython3",
   "version": "3.6.10"
  }
 },
 "nbformat": 4,
 "nbformat_minor": 5
}
