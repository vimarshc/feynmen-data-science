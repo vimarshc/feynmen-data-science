{
 "cells": [
  {
   "cell_type": "code",
   "execution_count": 1,
   "id": "spare-liabilities",
   "metadata": {},
   "outputs": [],
   "source": [
    "import torch\n",
    "import matplotlib.pyplot as plt"
   ]
  },
  {
   "cell_type": "markdown",
   "id": "incorrect-attack",
   "metadata": {},
   "source": [
    "## Callbacks\n",
    "\n"
   ]
  },
  {
   "cell_type": "markdown",
   "id": "instant-efficiency",
   "metadata": {},
   "source": [
    "### Callbacks as GUI events"
   ]
  },
  {
   "cell_type": "code",
   "execution_count": 2,
   "id": "unusual-frank",
   "metadata": {},
   "outputs": [],
   "source": [
    "import ipywidgets as widgets\n",
    "\n",
    "def f(o): print('hi')"
   ]
  },
  {
   "cell_type": "code",
   "execution_count": 3,
   "id": "familiar-board",
   "metadata": {},
   "outputs": [],
   "source": [
    "w = widgets.Button(description='Click me')"
   ]
  },
  {
   "cell_type": "code",
   "execution_count": 4,
   "id": "other-mason",
   "metadata": {},
   "outputs": [
    {
     "data": {
      "application/vnd.jupyter.widget-view+json": {
       "model_id": "e7a09a65b5694903bf44e1bb4fe1693c",
       "version_major": 2,
       "version_minor": 0
      },
      "text/plain": [
       "Button(description='Click me', style=ButtonStyle())"
      ]
     },
     "metadata": {},
     "output_type": "display_data"
    }
   ],
   "source": [
    "w"
   ]
  },
  {
   "cell_type": "code",
   "execution_count": 5,
   "id": "strange-meaning",
   "metadata": {},
   "outputs": [
    {
     "name": "stdout",
     "output_type": "stream",
     "text": [
      "Enabling notebook extension jupyter-js-widgets/extension...\n",
      "      - Validating: \u001b[32mOK\u001b[0m\n"
     ]
    }
   ],
   "source": [
    "! jupyter nbextension enable --py widgetsnbextension"
   ]
  },
  {
   "cell_type": "code",
   "execution_count": null,
   "id": "younger-oliver",
   "metadata": {},
   "outputs": [],
   "source": []
  }
 ],
 "metadata": {
  "kernelspec": {
   "display_name": "Python 3",
   "language": "python",
   "name": "python3"
  },
  "language_info": {
   "codemirror_mode": {
    "name": "ipython",
    "version": 3
   },
   "file_extension": ".py",
   "mimetype": "text/x-python",
   "name": "python",
   "nbconvert_exporter": "python",
   "pygments_lexer": "ipython3",
   "version": "3.6.10"
  }
 },
 "nbformat": 4,
 "nbformat_minor": 5
}
