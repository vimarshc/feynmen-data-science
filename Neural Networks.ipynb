{
 "cells": [
  {
   "cell_type": "markdown",
   "metadata": {},
   "source": [
    "# What is a Residual Layer "
   ]
  },
  {
   "cell_type": "code",
   "execution_count": 6,
   "metadata": {},
   "outputs": [],
   "source": [
    "# An operation on layers \n",
    "# consider a layer L\n",
    "def L(*args):return args[0]\n",
    "l0 = 0\n",
    "# Non residual Layer \n",
    "l1 = L(l0)\n",
    "\n",
    "# Residual Layer. \n",
    "l1 = l0 + L(l0)"
   ]
  },
  {
   "cell_type": "markdown",
   "metadata": {},
   "source": [
    "# Variations in Residual Connections? "
   ]
  },
  {
   "cell_type": "markdown",
   "metadata": {},
   "source": [
    "<img alt=\"Natural and artificial neurons\" width=\"500\" caption=\"Variations in Res Connections\" src=\"images/Variations_Res_Conns.png\" id=\"neuron\"/>"
   ]
  },
  {
   "cell_type": "markdown",
   "metadata": {},
   "source": [
    "# What is BatchNorm? "
   ]
  },
  {
   "cell_type": "code",
   "execution_count": 13,
   "metadata": {},
   "outputs": [],
   "source": [
    "import math\n",
    "import logging\n",
    "\n",
    "import torch\n",
    "import torch.nn as nn\n",
    "from torch.nn import functional as F\n",
    "\n",
    "\n",
    "m = nn.BatchNorm1d(100)\n",
    "input = torch.randn(20, 100)\n",
    "output = m(input)"
   ]
  },
  {
   "cell_type": "code",
   "execution_count": 19,
   "metadata": {},
   "outputs": [
    {
     "data": {
      "text/plain": [
       "Parameter containing:\n",
       "tensor([1., 1., 1., 1., 1., 1., 1., 1., 1., 1., 1., 1., 1., 1., 1., 1., 1., 1.,\n",
       "        1., 1., 1., 1., 1., 1., 1., 1., 1., 1., 1., 1., 1., 1., 1., 1., 1., 1.,\n",
       "        1., 1., 1., 1., 1., 1., 1., 1., 1., 1., 1., 1., 1., 1., 1., 1., 1., 1.,\n",
       "        1., 1., 1., 1., 1., 1., 1., 1., 1., 1., 1., 1., 1., 1., 1., 1., 1., 1.,\n",
       "        1., 1., 1., 1., 1., 1., 1., 1., 1., 1., 1., 1., 1., 1., 1., 1., 1., 1.,\n",
       "        1., 1., 1., 1., 1., 1., 1., 1., 1., 1.], requires_grad=True)"
      ]
     },
     "execution_count": 19,
     "metadata": {},
     "output_type": "execute_result"
    }
   ],
   "source": [
    "m.weight"
   ]
  },
  {
   "cell_type": "code",
   "execution_count": 16,
   "metadata": {},
   "outputs": [
    {
     "data": {
      "text/plain": [
       "tensor(0.9923)"
      ]
     },
     "execution_count": 16,
     "metadata": {},
     "output_type": "execute_result"
    }
   ],
   "source": [
    "input[0].std()"
   ]
  },
  {
   "cell_type": "code",
   "execution_count": 17,
   "metadata": {},
   "outputs": [
    {
     "data": {
      "text/plain": [
       "tensor(0.9705, grad_fn=<StdBackward>)"
      ]
     },
     "execution_count": 17,
     "metadata": {},
     "output_type": "execute_result"
    }
   ],
   "source": [
    "output[0].std()"
   ]
  },
  {
   "cell_type": "markdown",
   "metadata": {},
   "source": [
    "Explainations:\n",
    "    * [Andrew Ng](https://www.youtube.com/watch?v=tNIpEZLv_eg&list=PLkDaE6sCZn6Hn0vK8co82zjQtt3T2Nkqc&index=27)\n",
    "    * [Jeremy Howard](https://youtu.be/hkBa9pU-H48)\n",
    "##  Purpose: \n",
    "  * Makes Hyperparameter search much easier. \n",
    "  * Bigger range of HP can be made to work\n",
    "  * Helps train deeper models\n",
    "  * has slight regulatization effect due to added noise. "
   ]
  },
  {
   "cell_type": "code",
   "execution_count": 5,
   "metadata": {},
   "outputs": [],
   "source": [
    "# Normalizing the inputs to layers:\n",
    "    # * Debate about normalizing before and after activations. "
   ]
  },
  {
   "cell_type": "markdown",
   "metadata": {},
   "source": [
    "<img alt=\"Natural and artificial neurons\" width=\"500\" caption=\"batch norm nlp\" src=\"images/batch_norm_mlp.png\" id=\"neuron\"/>\n",
    "\n",
    "<img alt=\"Natural and artificial neurons\" width=\"500\" caption=\"batch norm nlp\" src=\"images/batch_norm_equations.png\" id=\"neuron\"/>"
   ]
  },
  {
   "cell_type": "markdown",
   "metadata": {},
   "source": [
    "## Purpose of HyperParams in Batch Norm: \n",
    "    * We might not want the mean and variance to be 0 and 1. \n",
    "        * With it's effect on activation. "
   ]
  },
  {
   "cell_type": "markdown",
   "metadata": {},
   "source": [
    "### What is exponentially Weighted Moving Averages? "
   ]
  },
  {
   "cell_type": "markdown",
   "metadata": {},
   "source": [
    "<img alt=\"Natural and artificial neurons\" width=\"500\" caption=\"batch norm nlp\" src=\"images/ewml.png\" id=\"neuron\"/>"
   ]
  },
  {
   "cell_type": "markdown",
   "metadata": {},
   "source": [
    "## Why does Batch Norm Work?  (Explain Internal CoVariate Shift)\n",
    "https://www.youtube.com/watch?v=nUUqwaxLnWs&list=PLkDaE6sCZn6Hn0vK8co82zjQtt3T2Nkqc&index=29\n",
    "\n",
    "#### Internal CoVariate Shift\n",
    ">    We define Internal Covariate Shift as the change in the\n",
    "    distribution of network activations due to the change in\n",
    "    network parameters during training. To improve the train-\n",
    "    ing, we seek to reduce the internal covariate shift.\n",
    "   \n",
    "    - Batch Norm Paper \n",
    "\n",
    "The problem deeper layers suffer from are that even if the input stays the same the activations of the previous layers keep changing (due to their wieghts changing). So, in an effort to keep the activations in similar areas (alpha and beta of batchnorm) we use batch norm. Thus, this enhances learning"
   ]
  },
  {
   "cell_type": "markdown",
   "metadata": {},
   "source": [
    "## Do we need to change BatchNorm in Test: \n",
    "    * Yes. Since we process examples one item at a time so mean and std might not be good. \n",
    "        * Soln: Keep a running average of mean and std which is used with examples during test. \n",
    "        \n",
    "### Pytorch Soln: https://discuss.pytorch.org/t/what-does-model-eval-do-for-batchnorm-layer/7146/2\n",
    "### Jeremy FastAI Explaination: https://course19.fast.ai/videos/?lesson=10&t=5899\n",
    "### PyTorch LERP: https://pytorch.org/docs/stable/generated/torch.lerp.html"
   ]
  },
  {
   "cell_type": "markdown",
   "metadata": {},
   "source": [
    "## Extra Paper Insights: \n",
    "\n",
    "Things have been tried before. \n",
    "Normal norm doesn't work. \n",
    "Training is needed. alpa and beta are being used to widen the data differently. \n",
    "\n",
    "\"We want to perform the identity transformer. Norm doesn't do that. alpha and beta help in identity transform.\""
   ]
  },
  {
   "cell_type": "code",
   "execution_count": 106,
   "metadata": {},
   "outputs": [
    {
     "name": "stdout",
     "output_type": "stream",
     "text": [
      "AxesSubplot(0.125,0.125;0.775x0.755) AxesSubplot(0.125,0.125;0.775x0.755) AxesSubplot(0.125,0.125;0.775x0.755)\n"
     ]
    },
    {
     "data": {
      "image/png": "[encoded data removed]",
      "text/plain": [
       "<Figure size 432x288 with 1 Axes>"
      ]
     },
     "metadata": {
      "needs_background": "light"
     },
     "output_type": "display_data"
    }
   ],
   "source": [
    "import torch\n",
    "import torch.nn as nn\n",
    "from torchvision import datasets, transforms\n",
    "from torchvision import models\n",
    "import pandas as pd \n",
    "\n",
    "model_dict = torch.load('/home/vimarshc/Documents/models/resnet18_pytorch/resnet18-f37072fd.pth')\n",
    "model_keys = model_dict.keys()\n",
    "bn_keys = [it_key for it_key in model_keys if ('weight' in it_key or 'bias' in it_key) and 'bn' in it_key ]\n",
    "model = models.resnet18()\n",
    "model.load_state_dict(model_dict)\n",
    "\n",
    "bn_weight_keys = [it for it in bn_keys if 'weight' in it]\n",
    "bn_bias_keys = [it for it in bn_keys if 'bias' in it]\n",
    "\n",
    "dfbn = pd.DataFrame({'bn_tag':bn_weight_keys})\n",
    "dfbn['weight_shape'] = dfbn['bn_tag'].apply(lambda x: model_dict[x].shape[0])\n",
    "dfbn['weight_mean'] = dfbn['bn_tag'].apply(lambda x: float(model_dict[x].mean()))\n",
    "dfbn['bias_keys'] = bn_bias_keys\n",
    "dfbn['bias_mean'] = dfbn['bias_keys'].apply(lambda x: float(model_dict[x].mean()))\n",
    "dfbn['weight_name'] = dfbn['bn_tag'].apply(lambda x: x.replace('bn','conv'))\n",
    "dfbn['conv_weight_mean'] = dfbn['weight_name'].apply(lambda x: float(model_dict[x].mean()))\n",
    "print(dfbn.weight_mean.plot(),dfbn.bias_mean.plot(),dfbn.conv_weight_mean.plot())"
   ]
  },
  {
   "cell_type": "code",
   "execution_count": 107,
   "metadata": {},
   "outputs": [
    {
     "data": {
      "text/html": [
       "<div>\n",
       "<style scoped>\n",
       "    .dataframe tbody tr th:only-of-type {\n",
       "        vertical-align: middle;\n",
       "    }\n",
       "\n",
       "    .dataframe tbody tr th {\n",
       "        vertical-align: top;\n",
       "    }\n",
       "\n",
       "    .dataframe thead th {\n",
       "        text-align: right;\n",
       "    }\n",
       "</style>\n",
       "<table border=\"1\" class=\"dataframe\">\n",
       "  <thead>\n",
       "    <tr style=\"text-align: right;\">\n",
       "      <th></th>\n",
       "      <th>bn_tag</th>\n",
       "      <th>weight_shape</th>\n",
       "      <th>weight_mean</th>\n",
       "      <th>bias_keys</th>\n",
       "      <th>bias_mean</th>\n",
       "      <th>weight_name</th>\n",
       "      <th>conv_weight_mean</th>\n",
       "    </tr>\n",
       "  </thead>\n",
       "  <tbody>\n",
       "    <tr>\n",
       "      <th>0</th>\n",
       "      <td>bn1.weight</td>\n",
       "      <td>64</td>\n",
       "      <td>0.257577</td>\n",
       "      <td>bn1.bias</td>\n",
       "      <td>0.181120</td>\n",
       "      <td>conv1.weight</td>\n",
       "      <td>0.000029</td>\n",
       "    </tr>\n",
       "    <tr>\n",
       "      <th>1</th>\n",
       "      <td>layer1.0.bn1.weight</td>\n",
       "      <td>64</td>\n",
       "      <td>0.339601</td>\n",
       "      <td>layer1.0.bn1.bias</td>\n",
       "      <td>-0.034137</td>\n",
       "      <td>layer1.0.conv1.weight</td>\n",
       "      <td>-0.003087</td>\n",
       "    </tr>\n",
       "    <tr>\n",
       "      <th>2</th>\n",
       "      <td>layer1.0.bn2.weight</td>\n",
       "      <td>64</td>\n",
       "      <td>0.333055</td>\n",
       "      <td>layer1.0.bn2.bias</td>\n",
       "      <td>0.003463</td>\n",
       "      <td>layer1.0.conv2.weight</td>\n",
       "      <td>-0.000889</td>\n",
       "    </tr>\n",
       "    <tr>\n",
       "      <th>3</th>\n",
       "      <td>layer1.1.bn1.weight</td>\n",
       "      <td>64</td>\n",
       "      <td>0.328692</td>\n",
       "      <td>layer1.1.bn1.bias</td>\n",
       "      <td>-0.083574</td>\n",
       "      <td>layer1.1.conv1.weight</td>\n",
       "      <td>-0.002420</td>\n",
       "    </tr>\n",
       "    <tr>\n",
       "      <th>4</th>\n",
       "      <td>layer1.1.bn2.weight</td>\n",
       "      <td>64</td>\n",
       "      <td>0.392430</td>\n",
       "      <td>layer1.1.bn2.bias</td>\n",
       "      <td>-0.029984</td>\n",
       "      <td>layer1.1.conv2.weight</td>\n",
       "      <td>-0.001260</td>\n",
       "    </tr>\n",
       "    <tr>\n",
       "      <th>5</th>\n",
       "      <td>layer2.0.bn1.weight</td>\n",
       "      <td>128</td>\n",
       "      <td>0.316419</td>\n",
       "      <td>layer2.0.bn1.bias</td>\n",
       "      <td>-0.067346</td>\n",
       "      <td>layer2.0.conv1.weight</td>\n",
       "      <td>-0.001454</td>\n",
       "    </tr>\n",
       "    <tr>\n",
       "      <th>6</th>\n",
       "      <td>layer2.0.bn2.weight</td>\n",
       "      <td>128</td>\n",
       "      <td>0.327573</td>\n",
       "      <td>layer2.0.bn2.bias</td>\n",
       "      <td>-0.003555</td>\n",
       "      <td>layer2.0.conv2.weight</td>\n",
       "      <td>-0.001248</td>\n",
       "    </tr>\n",
       "    <tr>\n",
       "      <th>7</th>\n",
       "      <td>layer2.1.bn1.weight</td>\n",
       "      <td>128</td>\n",
       "      <td>0.321264</td>\n",
       "      <td>layer2.1.bn1.bias</td>\n",
       "      <td>-0.210250</td>\n",
       "      <td>layer2.1.conv1.weight</td>\n",
       "      <td>-0.001530</td>\n",
       "    </tr>\n",
       "    <tr>\n",
       "      <th>8</th>\n",
       "      <td>layer2.1.bn2.weight</td>\n",
       "      <td>128</td>\n",
       "      <td>0.282911</td>\n",
       "      <td>layer2.1.bn2.bias</td>\n",
       "      <td>-0.151284</td>\n",
       "      <td>layer2.1.conv2.weight</td>\n",
       "      <td>-0.001272</td>\n",
       "    </tr>\n",
       "    <tr>\n",
       "      <th>9</th>\n",
       "      <td>layer3.0.bn1.weight</td>\n",
       "      <td>256</td>\n",
       "      <td>0.312275</td>\n",
       "      <td>layer3.0.bn1.bias</td>\n",
       "      <td>-0.114786</td>\n",
       "      <td>layer3.0.conv1.weight</td>\n",
       "      <td>-0.001368</td>\n",
       "    </tr>\n",
       "    <tr>\n",
       "      <th>10</th>\n",
       "      <td>layer3.0.bn2.weight</td>\n",
       "      <td>256</td>\n",
       "      <td>0.320250</td>\n",
       "      <td>layer3.0.bn2.bias</td>\n",
       "      <td>-0.030766</td>\n",
       "      <td>layer3.0.conv2.weight</td>\n",
       "      <td>-0.000787</td>\n",
       "    </tr>\n",
       "    <tr>\n",
       "      <th>11</th>\n",
       "      <td>layer3.1.bn1.weight</td>\n",
       "      <td>256</td>\n",
       "      <td>0.278211</td>\n",
       "      <td>layer3.1.bn1.bias</td>\n",
       "      <td>-0.237468</td>\n",
       "      <td>layer3.1.conv1.weight</td>\n",
       "      <td>-0.001662</td>\n",
       "    </tr>\n",
       "    <tr>\n",
       "      <th>12</th>\n",
       "      <td>layer3.1.bn2.weight</td>\n",
       "      <td>256</td>\n",
       "      <td>0.245850</td>\n",
       "      <td>layer3.1.bn2.bias</td>\n",
       "      <td>-0.163723</td>\n",
       "      <td>layer3.1.conv2.weight</td>\n",
       "      <td>-0.001441</td>\n",
       "    </tr>\n",
       "    <tr>\n",
       "      <th>13</th>\n",
       "      <td>layer4.0.bn1.weight</td>\n",
       "      <td>512</td>\n",
       "      <td>0.264318</td>\n",
       "      <td>layer4.0.bn1.bias</td>\n",
       "      <td>-0.225722</td>\n",
       "      <td>layer4.0.conv1.weight</td>\n",
       "      <td>-0.001565</td>\n",
       "    </tr>\n",
       "    <tr>\n",
       "      <th>14</th>\n",
       "      <td>layer4.0.bn2.weight</td>\n",
       "      <td>512</td>\n",
       "      <td>0.424319</td>\n",
       "      <td>layer4.0.bn2.bias</td>\n",
       "      <td>-0.197634</td>\n",
       "      <td>layer4.0.conv2.weight</td>\n",
       "      <td>-0.001303</td>\n",
       "    </tr>\n",
       "    <tr>\n",
       "      <th>15</th>\n",
       "      <td>layer4.1.bn1.weight</td>\n",
       "      <td>512</td>\n",
       "      <td>0.288600</td>\n",
       "      <td>layer4.1.bn1.bias</td>\n",
       "      <td>-0.241740</td>\n",
       "      <td>layer4.1.conv1.weight</td>\n",
       "      <td>-0.002261</td>\n",
       "    </tr>\n",
       "    <tr>\n",
       "      <th>16</th>\n",
       "      <td>layer4.1.bn2.weight</td>\n",
       "      <td>512</td>\n",
       "      <td>1.853810</td>\n",
       "      <td>layer4.1.bn2.bias</td>\n",
       "      <td>0.273822</td>\n",
       "      <td>layer4.1.conv2.weight</td>\n",
       "      <td>-0.000108</td>\n",
       "    </tr>\n",
       "  </tbody>\n",
       "</table>\n",
       "</div>"
      ],
      "text/plain": [
       "                 bn_tag  weight_shape  weight_mean          bias_keys  \\\n",
       "0            bn1.weight            64     0.257577           bn1.bias   \n",
       "1   layer1.0.bn1.weight            64     0.339601  layer1.0.bn1.bias   \n",
       "2   layer1.0.bn2.weight            64     0.333055  layer1.0.bn2.bias   \n",
       "3   layer1.1.bn1.weight            64     0.328692  layer1.1.bn1.bias   \n",
       "4   layer1.1.bn2.weight            64     0.392430  layer1.1.bn2.bias   \n",
       "5   layer2.0.bn1.weight           128     0.316419  layer2.0.bn1.bias   \n",
       "6   layer2.0.bn2.weight           128     0.327573  layer2.0.bn2.bias   \n",
       "7   layer2.1.bn1.weight           128     0.321264  layer2.1.bn1.bias   \n",
       "8   layer2.1.bn2.weight           128     0.282911  layer2.1.bn2.bias   \n",
       "9   layer3.0.bn1.weight           256     0.312275  layer3.0.bn1.bias   \n",
       "10  layer3.0.bn2.weight           256     0.320250  layer3.0.bn2.bias   \n",
       "11  layer3.1.bn1.weight           256     0.278211  layer3.1.bn1.bias   \n",
       "12  layer3.1.bn2.weight           256     0.245850  layer3.1.bn2.bias   \n",
       "13  layer4.0.bn1.weight           512     0.264318  layer4.0.bn1.bias   \n",
       "14  layer4.0.bn2.weight           512     0.424319  layer4.0.bn2.bias   \n",
       "15  layer4.1.bn1.weight           512     0.288600  layer4.1.bn1.bias   \n",
       "16  layer4.1.bn2.weight           512     1.853810  layer4.1.bn2.bias   \n",
       "\n",
       "    bias_mean            weight_name  conv_weight_mean  \n",
       "0    0.181120           conv1.weight          0.000029  \n",
       "1   -0.034137  layer1.0.conv1.weight         -0.003087  \n",
       "2    0.003463  layer1.0.conv2.weight         -0.000889  \n",
       "3   -0.083574  layer1.1.conv1.weight         -0.002420  \n",
       "4   -0.029984  layer1.1.conv2.weight         -0.001260  \n",
       "5   -0.067346  layer2.0.conv1.weight         -0.001454  \n",
       "6   -0.003555  layer2.0.conv2.weight         -0.001248  \n",
       "7   -0.210250  layer2.1.conv1.weight         -0.001530  \n",
       "8   -0.151284  layer2.1.conv2.weight         -0.001272  \n",
       "9   -0.114786  layer3.0.conv1.weight         -0.001368  \n",
       "10  -0.030766  layer3.0.conv2.weight         -0.000787  \n",
       "11  -0.237468  layer3.1.conv1.weight         -0.001662  \n",
       "12  -0.163723  layer3.1.conv2.weight         -0.001441  \n",
       "13  -0.225722  layer4.0.conv1.weight         -0.001565  \n",
       "14  -0.197634  layer4.0.conv2.weight         -0.001303  \n",
       "15  -0.241740  layer4.1.conv1.weight         -0.002261  \n",
       "16   0.273822  layer4.1.conv2.weight         -0.000108  "
      ]
     },
     "execution_count": 107,
     "metadata": {},
     "output_type": "execute_result"
    }
   ],
   "source": [
    "dfbn"
   ]
  },
  {
   "cell_type": "markdown",
   "metadata": {},
   "source": [
    "## Does Batch Norm Help with ICS? "
   ]
  },
  {
   "cell_type": "markdown",
   "metadata": {},
   "source": [
    "<img alt=\"Natural and artificial neurons\" width=\"500\" caption=\"batch norm nlp\" src=\"images/batch_norm_ics.png\" id=\"neuron\"/>"
   ]
  },
  {
   "cell_type": "code",
   "execution_count": null,
   "metadata": {},
   "outputs": [],
   "source": []
  },
  {
   "cell_type": "markdown",
   "metadata": {},
   "source": [
    "## What is Covariate Shift? \n",
    "Training set and Query / Test set having very different distributions. "
   ]
  },
  {
   "cell_type": "markdown",
   "metadata": {},
   "source": [
    "<img alt=\"Natural and artificial neurons\" width=\"500\" caption=\"batch norm nlp\" src=\"images/index.jpeg\" id=\"neuron\"/>"
   ]
  },
  {
   "cell_type": "markdown",
   "metadata": {},
   "source": [
    "How to detect: \n",
    "    * dimensional reduction: tsne\n",
    "    * membership modelling: \n",
    "          * One class SVM\n",
    "          * Uncertainty Quantification: Prob\n",
    "          * "
   ]
  },
  {
   "cell_type": "markdown",
   "metadata": {},
   "source": [
    "# What is the Purpose of Initilization? \n",
    "We want the inputs of all layers to be between mean = 0 and std = 1\n",
    "\n",
    "# Example? "
   ]
  },
  {
   "cell_type": "code",
   "execution_count": 110,
   "metadata": {},
   "outputs": [],
   "source": [
    "nh = 50\n",
    "m = 764\n",
    "\n",
    "# standard xavier init\n",
    "w1 = torch.randn(m,nh)/math.sqrt(m)\n",
    "b1 = torch.zeros(nh)\n",
    "w2 = torch.randn(nh,1)/math.sqrt(nh)\n",
    "b2 = torch.zeros(1)\n"
   ]
  },
  {
   "cell_type": "code",
   "execution_count": 112,
   "metadata": {},
   "outputs": [],
   "source": [
    "x = torch.rand(10000,m)"
   ]
  },
  {
   "cell_type": "code",
   "execution_count": 113,
   "metadata": {},
   "outputs": [],
   "source": [
    "def normalize(x, m, s): return (x-m)/s"
   ]
  },
  {
   "cell_type": "code",
   "execution_count": 114,
   "metadata": {},
   "outputs": [],
   "source": [
    "x = normalize(x,x.mean(),x.std())"
   ]
  },
  {
   "cell_type": "code",
   "execution_count": 117,
   "metadata": {},
   "outputs": [],
   "source": [
    "#export\n",
    "def test_near_zero(a,tol=1e-3): assert a.abs()<tol, f\"Near zero: {a}\"\n",
    "\n",
    "test_near_zero(x.mean())\n",
    "test_near_zero(1-x.std())"
   ]
  },
  {
   "cell_type": "markdown",
   "metadata": {},
   "source": [
    "## What is Learning Rate? \n",
    "### How is it used? "
   ]
  },
  {
   "cell_type": "code",
   "execution_count": null,
   "metadata": {},
   "outputs": [],
   "source": []
  },
  {
   "cell_type": "code",
   "execution_count": null,
   "metadata": {},
   "outputs": [],
   "source": []
  },
  {
   "cell_type": "code",
   "execution_count": 1,
   "metadata": {},
   "outputs": [],
   "source": [
    "import torch\n",
    "import torch.nn as nn\n",
    "from torchvision import datasets, transforms\n",
    "from torchvision import models\n",
    "import pandas as pd \n",
    "\n",
    "model_dict = torch.load('/home/vimarshc/Documents/models/resnet18_pytorch/resnet18-f37072fd.pth')"
   ]
  },
  {
   "cell_type": "code",
   "execution_count": 2,
   "metadata": {},
   "outputs": [
    {
     "data": {
      "text/plain": [
       "<All keys matched successfully>"
      ]
     },
     "execution_count": 2,
     "metadata": {},
     "output_type": "execute_result"
    }
   ],
   "source": [
    "model = models.resnet18()\n",
    "model.load_state_dict(model_dict)"
   ]
  },
  {
   "cell_type": "markdown",
   "metadata": {},
   "source": [
    "## Define Cross-Entropy? \n",
    "\n",
    "\n",
    "\n",
    "The cross entropy loss for some target $x$ and some prediction $p(x)$ is given by:\n",
    "$$ -\\sum x\\, \\log p(x) $$\n",
    "\n",
    "But since our $x$s are 1-hot encoded, this can be rewritten as $-\\log(p_{i})$ where i is the index of the desired target.\n",
    "\n",
    "This can be done using numpy-style integer array indexing. Note that PyTorch supports all the tricks in the advanced indexing methods discussed in that link.\n"
   ]
  },
  {
   "cell_type": "code",
   "execution_count": 48,
   "metadata": {},
   "outputs": [
    {
     "data": {
      "text/plain": [
       "tensor([3, 6, 5, 1, 9, 2, 3, 8, 1, 7])"
      ]
     },
     "execution_count": 48,
     "metadata": {},
     "output_type": "execute_result"
    }
   ],
   "source": [
    "import numpy\n"
   ]
  },
  {
   "cell_type": "code",
   "execution_count": 53,
   "metadata": {},
   "outputs": [],
   "source": [
    "preds = torch.randn(1000,10)\n",
    "targets = torch.tensor(numpy.random.randint(0,10, size=1000))\n",
    "# Sample of 1000 predictions from MNIST \n",
    "# 10 is num of classes. "
   ]
  },
  {
   "cell_type": "code",
   "execution_count": 54,
   "metadata": {},
   "outputs": [],
   "source": [
    "import  torch.nn.functional as F "
   ]
  },
  {
   "cell_type": "code",
   "execution_count": 55,
   "metadata": {},
   "outputs": [
    {
     "name": "stderr",
     "output_type": "stream",
     "text": [
      "<ipython-input-55-b0ec4e842cf5>:1: UserWarning: Implicit dimension choice for log_softmax has been deprecated. Change the call to include dim=X as an argument.\n",
      "  logged_softmax = F.log_softmax(preds)\n"
     ]
    }
   ],
   "source": [
    "logged_softmax = F.log_softmax(preds)\n",
    "# More numerically stable\n",
    "# https://discuss.pytorch.org/t/what-is-the-difference-between-log-softmax-and-softmax/11801/7\n",
    "\n",
    "# The gradient calculation for cross entropy -sum(target*log(p)) is much nicer \n",
    "# https://stats.stackexchange.com/questions/289369/log-probabilities-in-reference-to-softmax-classifier\n",
    "\n",
    "# Numerical Stability: Taking their word here. \n",
    "# https://stats.stackexchange.com/questions/174481/why-to-optimize-max-log-probability-instead-of-probability\n"
   ]
  },
  {
   "cell_type": "code",
   "execution_count": 57,
   "metadata": {},
   "outputs": [
    {
     "data": {
      "text/plain": [
       "torch.Size([1000])"
      ]
     },
     "execution_count": 57,
     "metadata": {},
     "output_type": "execute_result"
    }
   ],
   "source": [
    "targets.shape"
   ]
  },
  {
   "cell_type": "code",
   "execution_count": 61,
   "metadata": {},
   "outputs": [],
   "source": [
    "def nll(input,target): return -input[range(target.shape[0]),target].mean()"
   ]
  },
  {
   "cell_type": "code",
   "execution_count": 62,
   "metadata": {},
   "outputs": [
    {
     "data": {
      "text/plain": [
       "tensor(2.7029)"
      ]
     },
     "execution_count": 62,
     "metadata": {},
     "output_type": "execute_result"
    }
   ],
   "source": [
    "nll(logged_softmax,targets)"
   ]
  },
  {
   "cell_type": "code",
   "execution_count": null,
   "metadata": {},
   "outputs": [],
   "source": []
  }
 ],
 "metadata": {
  "kernelspec": {
   "display_name": "Python 3",
   "language": "python",
   "name": "python3"
  },
  "language_info": {
   "codemirror_mode": {
    "name": "ipython",
    "version": 3
   },
   "file_extension": ".py",
   "mimetype": "text/x-python",
   "name": "python",
   "nbconvert_exporter": "python",
   "pygments_lexer": "ipython3",
   "version": "3.8.5"
  }
 },
 "nbformat": 4,
 "nbformat_minor": 4
}
