{
 "cells": [
  {
   "cell_type": "markdown",
   "metadata": {},
   "source": [
    "### Mod to Relu where I'm allowing a few dims to exist. \n",
    "    * Visulaization should be interesting for 2D data. The actions of RelU. \n",
    "    "
   ]
  },
  {
   "cell_type": "markdown",
   "metadata": {},
   "source": [
    "## Are really thin NNs possible for smaller data. \n",
    "    * Montecarlo sample from MNIST image reducing 784 to smaller. \n",
    "    * Will just one layer for of small dimensions work for cross entropy setup. \n",
    "        * [784,5,10], [784,50,10]"
   ]
  },
  {
   "cell_type": "markdown",
   "metadata": {},
   "source": [
    "# About Heads: \n",
    "    1. Multihead layers possible in Vanilla NN: \n",
    "        where one player has two (x) linear layers \n",
    "        and each layer has two (x) linear layers which \n",
    "        are running in parallel. \n",
    "    2. MultiHeader RNN. \n",
    "    "
   ]
  },
  {
   "cell_type": "markdown",
   "metadata": {},
   "source": [
    "## Thoughts on MultiHeads: \n",
    "    1. Outputs from multiple heads stacked together pushed through a linear layers captures information. Info is being transferred from a space of multiple dimenions (vector_len X num heads) to a continous space. \n",
    "    2. Expanding dimensions of distributed systems (NNs)\n",
    "        2.1 Having mutlitple dimensions for each token (2D representation of words)\n",
    "        2.2 A single dimension can be pushed through Linear to have different aspects covered before being pushed through a model. \n",
    "        2.3 "
   ]
  },
  {
   "cell_type": "markdown",
   "metadata": {},
   "source": []
  }
 ],
 "metadata": {
  "kernelspec": {
   "display_name": "Python 3",
   "language": "python",
   "name": "python3"
  },
  "language_info": {
   "codemirror_mode": {
    "name": "ipython",
    "version": 3
   },
   "file_extension": ".py",
   "mimetype": "text/x-python",
   "name": "python",
   "nbconvert_exporter": "python",
   "pygments_lexer": "ipython3",
   "version": "3.6.10"
  }
 },
 "nbformat": 4,
 "nbformat_minor": 4
}
